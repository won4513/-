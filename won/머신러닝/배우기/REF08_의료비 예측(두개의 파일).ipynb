{
 "cells": [
  {
   "cell_type": "markdown",
   "id": "2fd695b4-199b-4b62-aac8-f135e90fe55c",
   "metadata": {
    "id": "2fd695b4-199b-4b62-aac8-f135e90fe55c"
   },
   "source": [
    "<center><img src='https://raw.githubusercontent.com/Jangrae/img/master/ml_python.png' width=600/></center>"
   ]
  },
  {
   "cell_type": "markdown",
   "id": "3a29e4a9-2e9a-4f79-ba07-0da80f3914f5",
   "metadata": {
    "id": "3a29e4a9-2e9a-4f79-ba07-0da80f3914f5"
   },
   "source": [
    "<img src = \"https://github.com/Jangrae/img/blob/master/medical2.png?raw=true\" width=800 align=\"left\"/>"
   ]
  },
  {
   "cell_type": "markdown",
   "id": "ea5f5460-9883-4047-8ae0-62eb3e3786f9",
   "metadata": {
    "id": "ea5f5460-9883-4047-8ae0-62eb3e3786f9"
   },
   "source": [
    "# 실습내용\n",
    "\n",
    "- 학습용 데이터와 평가용 데이터가 별도의 파일로 제공되는 경우가 있습니다.\n",
    "- 이미 우리가 학습한 방법과는 조금 다른 접근이 필요합니다.\n",
    "- 의료비 예측을 의뢰한 가상 고객의 요청을 처리해 봅니다."
   ]
  },
  {
   "cell_type": "markdown",
   "id": "13a5dc95-4a1c-45c9-abaa-41628ef4e6a3",
   "metadata": {
    "id": "13a5dc95-4a1c-45c9-abaa-41628ef4e6a3"
   },
   "source": [
    "# 1.환경 준비\n",
    "\n",
    "- 기본 라이브러리와 대상 데이터를 가져와 이후 과정을 준비합니다."
   ]
  },
  {
   "cell_type": "code",
   "execution_count": 1,
   "id": "7f9c8b61-fec6-4c27-8de7-eab3163536bb",
   "metadata": {
    "id": "7f9c8b61-fec6-4c27-8de7-eab3163536bb"
   },
   "outputs": [],
   "source": [
    "# 라이브러리 불러오기\n",
    "import numpy as np\n",
    "import pandas as pd\n",
    "import matplotlib.pyplot as plt\n",
    "import seaborn as sns\n",
    "import warnings\n",
    "\n",
    "warnings.filterwarnings(action='ignore')\n",
    "%config InlineBackend.figure_format = 'retina'"
   ]
  },
  {
   "cell_type": "code",
   "execution_count": 2,
   "id": "801124eb-6c04-40f4-b65f-f1f079869830",
   "metadata": {
    "id": "801124eb-6c04-40f4-b65f-f1f079869830"
   },
   "outputs": [],
   "source": [
    "# 학습용 데이터 불러오기\n",
    "path = 'https://raw.githubusercontent.com/Jangrae/csv/master/insurance_train.csv'\n",
    "data1 = pd.read_csv(path)"
   ]
  },
  {
   "cell_type": "code",
   "execution_count": 3,
   "id": "1f43b23e-c18d-4715-8c2a-998be58f2eb2",
   "metadata": {
    "id": "1f43b23e-c18d-4715-8c2a-998be58f2eb2"
   },
   "outputs": [],
   "source": [
    "# 평가용 데이터 불러오기\n",
    "path = 'https://raw.githubusercontent.com/Jangrae/csv/master/insurance_test.csv'\n",
    "data2 = pd.read_csv(path)"
   ]
  },
  {
   "cell_type": "markdown",
   "id": "21b3723c-bd78-4b2e-93e6-71fa1097169d",
   "metadata": {
    "id": "21b3723c-bd78-4b2e-93e6-71fa1097169d"
   },
   "source": [
    "# 2.데이터 이해\n",
    "\n",
    "- 분석할 데이터를 충분히 이해할 수 있도록 다양한 탐색 과정을 수행합니다.\n",
    "- 모델링에 집중하기 위해 본 실습에서는 탐색 과정을 생략합니다."
   ]
  },
  {
   "cell_type": "code",
   "execution_count": 4,
   "id": "398795e8-2449-4f3e-8328-09be3958f3e3",
   "metadata": {
    "id": "801124eb-6c04-40f4-b65f-f1f079869830"
   },
   "outputs": [
    {
     "data": {
      "text/html": [
       "<div>\n",
       "<style scoped>\n",
       "    .dataframe tbody tr th:only-of-type {\n",
       "        vertical-align: middle;\n",
       "    }\n",
       "\n",
       "    .dataframe tbody tr th {\n",
       "        vertical-align: top;\n",
       "    }\n",
       "\n",
       "    .dataframe thead th {\n",
       "        text-align: right;\n",
       "    }\n",
       "</style>\n",
       "<table border=\"1\" class=\"dataframe\">\n",
       "  <thead>\n",
       "    <tr style=\"text-align: right;\">\n",
       "      <th></th>\n",
       "      <th>age</th>\n",
       "      <th>sex</th>\n",
       "      <th>bmi</th>\n",
       "      <th>children</th>\n",
       "      <th>smoker</th>\n",
       "      <th>region</th>\n",
       "      <th>charges</th>\n",
       "    </tr>\n",
       "  </thead>\n",
       "  <tbody>\n",
       "    <tr>\n",
       "      <th>0</th>\n",
       "      <td>41</td>\n",
       "      <td>female</td>\n",
       "      <td>31.600</td>\n",
       "      <td>0</td>\n",
       "      <td>no</td>\n",
       "      <td>southwest</td>\n",
       "      <td>6186.1270</td>\n",
       "    </tr>\n",
       "    <tr>\n",
       "      <th>1</th>\n",
       "      <td>30</td>\n",
       "      <td>male</td>\n",
       "      <td>25.460</td>\n",
       "      <td>0</td>\n",
       "      <td>no</td>\n",
       "      <td>northeast</td>\n",
       "      <td>3645.0894</td>\n",
       "    </tr>\n",
       "    <tr>\n",
       "      <th>2</th>\n",
       "      <td>18</td>\n",
       "      <td>female</td>\n",
       "      <td>30.115</td>\n",
       "      <td>0</td>\n",
       "      <td>no</td>\n",
       "      <td>northeast</td>\n",
       "      <td>21344.8467</td>\n",
       "    </tr>\n",
       "    <tr>\n",
       "      <th>3</th>\n",
       "      <td>61</td>\n",
       "      <td>female</td>\n",
       "      <td>29.920</td>\n",
       "      <td>3</td>\n",
       "      <td>yes</td>\n",
       "      <td>southeast</td>\n",
       "      <td>30942.1918</td>\n",
       "    </tr>\n",
       "    <tr>\n",
       "      <th>4</th>\n",
       "      <td>34</td>\n",
       "      <td>female</td>\n",
       "      <td>27.500</td>\n",
       "      <td>1</td>\n",
       "      <td>no</td>\n",
       "      <td>southwest</td>\n",
       "      <td>5003.8530</td>\n",
       "    </tr>\n",
       "    <tr>\n",
       "      <th>...</th>\n",
       "      <td>...</td>\n",
       "      <td>...</td>\n",
       "      <td>...</td>\n",
       "      <td>...</td>\n",
       "      <td>...</td>\n",
       "      <td>...</td>\n",
       "      <td>...</td>\n",
       "    </tr>\n",
       "    <tr>\n",
       "      <th>1233</th>\n",
       "      <td>50</td>\n",
       "      <td>male</td>\n",
       "      <td>30.970</td>\n",
       "      <td>3</td>\n",
       "      <td>no</td>\n",
       "      <td>northwest</td>\n",
       "      <td>10600.5483</td>\n",
       "    </tr>\n",
       "    <tr>\n",
       "      <th>1234</th>\n",
       "      <td>18</td>\n",
       "      <td>female</td>\n",
       "      <td>31.920</td>\n",
       "      <td>0</td>\n",
       "      <td>no</td>\n",
       "      <td>northeast</td>\n",
       "      <td>2205.9808</td>\n",
       "    </tr>\n",
       "    <tr>\n",
       "      <th>1235</th>\n",
       "      <td>18</td>\n",
       "      <td>female</td>\n",
       "      <td>36.850</td>\n",
       "      <td>0</td>\n",
       "      <td>no</td>\n",
       "      <td>southeast</td>\n",
       "      <td>1629.8335</td>\n",
       "    </tr>\n",
       "    <tr>\n",
       "      <th>1236</th>\n",
       "      <td>21</td>\n",
       "      <td>female</td>\n",
       "      <td>25.800</td>\n",
       "      <td>0</td>\n",
       "      <td>no</td>\n",
       "      <td>southwest</td>\n",
       "      <td>2007.9450</td>\n",
       "    </tr>\n",
       "    <tr>\n",
       "      <th>1237</th>\n",
       "      <td>61</td>\n",
       "      <td>female</td>\n",
       "      <td>29.070</td>\n",
       "      <td>0</td>\n",
       "      <td>yes</td>\n",
       "      <td>northwest</td>\n",
       "      <td>29141.3603</td>\n",
       "    </tr>\n",
       "  </tbody>\n",
       "</table>\n",
       "<p>1238 rows × 7 columns</p>\n",
       "</div>"
      ],
      "text/plain": [
       "      age     sex     bmi  children smoker     region     charges\n",
       "0      41  female  31.600         0     no  southwest   6186.1270\n",
       "1      30    male  25.460         0     no  northeast   3645.0894\n",
       "2      18  female  30.115         0     no  northeast  21344.8467\n",
       "3      61  female  29.920         3    yes  southeast  30942.1918\n",
       "4      34  female  27.500         1     no  southwest   5003.8530\n",
       "...   ...     ...     ...       ...    ...        ...         ...\n",
       "1233   50    male  30.970         3     no  northwest  10600.5483\n",
       "1234   18  female  31.920         0     no  northeast   2205.9808\n",
       "1235   18  female  36.850         0     no  southeast   1629.8335\n",
       "1236   21  female  25.800         0     no  southwest   2007.9450\n",
       "1237   61  female  29.070         0    yes  northwest  29141.3603\n",
       "\n",
       "[1238 rows x 7 columns]"
      ]
     },
     "execution_count": 4,
     "metadata": {},
     "output_type": "execute_result"
    }
   ],
   "source": [
    "# 학습용 데이터 확인\n",
    "data1"
   ]
  },
  {
   "cell_type": "code",
   "execution_count": 5,
   "id": "8cdc100e-6b97-4927-9600-b441942f32bc",
   "metadata": {
    "id": "1f43b23e-c18d-4715-8c2a-998be58f2eb2"
   },
   "outputs": [
    {
     "data": {
      "text/html": [
       "<div>\n",
       "<style scoped>\n",
       "    .dataframe tbody tr th:only-of-type {\n",
       "        vertical-align: middle;\n",
       "    }\n",
       "\n",
       "    .dataframe tbody tr th {\n",
       "        vertical-align: top;\n",
       "    }\n",
       "\n",
       "    .dataframe thead th {\n",
       "        text-align: right;\n",
       "    }\n",
       "</style>\n",
       "<table border=\"1\" class=\"dataframe\">\n",
       "  <thead>\n",
       "    <tr style=\"text-align: right;\">\n",
       "      <th></th>\n",
       "      <th>age</th>\n",
       "      <th>sex</th>\n",
       "      <th>bmi</th>\n",
       "      <th>children</th>\n",
       "      <th>smoker</th>\n",
       "      <th>region</th>\n",
       "    </tr>\n",
       "  </thead>\n",
       "  <tbody>\n",
       "    <tr>\n",
       "      <th>0</th>\n",
       "      <td>19</td>\n",
       "      <td>female</td>\n",
       "      <td>27.900</td>\n",
       "      <td>0</td>\n",
       "      <td>yes</td>\n",
       "      <td>southwest</td>\n",
       "    </tr>\n",
       "    <tr>\n",
       "      <th>1</th>\n",
       "      <td>18</td>\n",
       "      <td>male</td>\n",
       "      <td>33.770</td>\n",
       "      <td>1</td>\n",
       "      <td>no</td>\n",
       "      <td>southeast</td>\n",
       "    </tr>\n",
       "    <tr>\n",
       "      <th>2</th>\n",
       "      <td>28</td>\n",
       "      <td>male</td>\n",
       "      <td>33.000</td>\n",
       "      <td>3</td>\n",
       "      <td>no</td>\n",
       "      <td>southeast</td>\n",
       "    </tr>\n",
       "    <tr>\n",
       "      <th>3</th>\n",
       "      <td>33</td>\n",
       "      <td>male</td>\n",
       "      <td>22.705</td>\n",
       "      <td>0</td>\n",
       "      <td>no</td>\n",
       "      <td>northwest</td>\n",
       "    </tr>\n",
       "    <tr>\n",
       "      <th>4</th>\n",
       "      <td>32</td>\n",
       "      <td>male</td>\n",
       "      <td>28.880</td>\n",
       "      <td>0</td>\n",
       "      <td>no</td>\n",
       "      <td>northwest</td>\n",
       "    </tr>\n",
       "    <tr>\n",
       "      <th>...</th>\n",
       "      <td>...</td>\n",
       "      <td>...</td>\n",
       "      <td>...</td>\n",
       "      <td>...</td>\n",
       "      <td>...</td>\n",
       "      <td>...</td>\n",
       "    </tr>\n",
       "    <tr>\n",
       "      <th>95</th>\n",
       "      <td>28</td>\n",
       "      <td>female</td>\n",
       "      <td>37.620</td>\n",
       "      <td>1</td>\n",
       "      <td>no</td>\n",
       "      <td>southeast</td>\n",
       "    </tr>\n",
       "    <tr>\n",
       "      <th>96</th>\n",
       "      <td>54</td>\n",
       "      <td>female</td>\n",
       "      <td>30.800</td>\n",
       "      <td>3</td>\n",
       "      <td>no</td>\n",
       "      <td>southwest</td>\n",
       "    </tr>\n",
       "    <tr>\n",
       "      <th>97</th>\n",
       "      <td>55</td>\n",
       "      <td>male</td>\n",
       "      <td>38.280</td>\n",
       "      <td>0</td>\n",
       "      <td>no</td>\n",
       "      <td>southeast</td>\n",
       "    </tr>\n",
       "    <tr>\n",
       "      <th>98</th>\n",
       "      <td>56</td>\n",
       "      <td>male</td>\n",
       "      <td>19.950</td>\n",
       "      <td>0</td>\n",
       "      <td>yes</td>\n",
       "      <td>northeast</td>\n",
       "    </tr>\n",
       "    <tr>\n",
       "      <th>99</th>\n",
       "      <td>38</td>\n",
       "      <td>male</td>\n",
       "      <td>19.300</td>\n",
       "      <td>0</td>\n",
       "      <td>yes</td>\n",
       "      <td>southwest</td>\n",
       "    </tr>\n",
       "  </tbody>\n",
       "</table>\n",
       "<p>100 rows × 6 columns</p>\n",
       "</div>"
      ],
      "text/plain": [
       "    age     sex     bmi  children smoker     region\n",
       "0    19  female  27.900         0    yes  southwest\n",
       "1    18    male  33.770         1     no  southeast\n",
       "2    28    male  33.000         3     no  southeast\n",
       "3    33    male  22.705         0     no  northwest\n",
       "4    32    male  28.880         0     no  northwest\n",
       "..  ...     ...     ...       ...    ...        ...\n",
       "95   28  female  37.620         1     no  southeast\n",
       "96   54  female  30.800         3     no  southwest\n",
       "97   55    male  38.280         0     no  southeast\n",
       "98   56    male  19.950         0    yes  northeast\n",
       "99   38    male  19.300         0    yes  southwest\n",
       "\n",
       "[100 rows x 6 columns]"
      ]
     },
     "execution_count": 5,
     "metadata": {},
     "output_type": "execute_result"
    }
   ],
   "source": [
    "# 평가용 데이터 확인\n",
    "data2"
   ]
  },
  {
   "cell_type": "markdown",
   "id": "f9e8dedb-7d26-48ea-a87b-6a21b7610070",
   "metadata": {
    "id": "f9e8dedb-7d26-48ea-a87b-6a21b7610070"
   },
   "source": [
    "# 3.데이터 준비\n",
    "\n",
    "- 전처리 과정을 통해 머신러닝 알고리즘에 사용할 수 있는 형태의 데이터를 준비합니다."
   ]
  },
  {
   "cell_type": "markdown",
   "id": "7b734f49-dd66-4948-8f34-218cf97e82e3",
   "metadata": {},
   "source": [
    "**1) 가변수화**"
   ]
  },
  {
   "cell_type": "code",
   "execution_count": 6,
   "id": "f4b5e31d-e26b-488a-a5f3-8eced5f780b0",
   "metadata": {
    "id": "f4b5e31d-e26b-488a-a5f3-8eced5f780b0"
   },
   "outputs": [
    {
     "data": {
      "text/html": [
       "<div>\n",
       "<style scoped>\n",
       "    .dataframe tbody tr th:only-of-type {\n",
       "        vertical-align: middle;\n",
       "    }\n",
       "\n",
       "    .dataframe tbody tr th {\n",
       "        vertical-align: top;\n",
       "    }\n",
       "\n",
       "    .dataframe thead th {\n",
       "        text-align: right;\n",
       "    }\n",
       "</style>\n",
       "<table border=\"1\" class=\"dataframe\">\n",
       "  <thead>\n",
       "    <tr style=\"text-align: right;\">\n",
       "      <th></th>\n",
       "      <th>age</th>\n",
       "      <th>bmi</th>\n",
       "      <th>children</th>\n",
       "      <th>charges</th>\n",
       "      <th>sex_male</th>\n",
       "      <th>smoker_yes</th>\n",
       "      <th>region_northwest</th>\n",
       "      <th>region_southeast</th>\n",
       "      <th>region_southwest</th>\n",
       "    </tr>\n",
       "  </thead>\n",
       "  <tbody>\n",
       "    <tr>\n",
       "      <th>0</th>\n",
       "      <td>41</td>\n",
       "      <td>31.600</td>\n",
       "      <td>0</td>\n",
       "      <td>6186.1270</td>\n",
       "      <td>0</td>\n",
       "      <td>0</td>\n",
       "      <td>0</td>\n",
       "      <td>0</td>\n",
       "      <td>1</td>\n",
       "    </tr>\n",
       "    <tr>\n",
       "      <th>1</th>\n",
       "      <td>30</td>\n",
       "      <td>25.460</td>\n",
       "      <td>0</td>\n",
       "      <td>3645.0894</td>\n",
       "      <td>1</td>\n",
       "      <td>0</td>\n",
       "      <td>0</td>\n",
       "      <td>0</td>\n",
       "      <td>0</td>\n",
       "    </tr>\n",
       "    <tr>\n",
       "      <th>2</th>\n",
       "      <td>18</td>\n",
       "      <td>30.115</td>\n",
       "      <td>0</td>\n",
       "      <td>21344.8467</td>\n",
       "      <td>0</td>\n",
       "      <td>0</td>\n",
       "      <td>0</td>\n",
       "      <td>0</td>\n",
       "      <td>0</td>\n",
       "    </tr>\n",
       "    <tr>\n",
       "      <th>3</th>\n",
       "      <td>61</td>\n",
       "      <td>29.920</td>\n",
       "      <td>3</td>\n",
       "      <td>30942.1918</td>\n",
       "      <td>0</td>\n",
       "      <td>1</td>\n",
       "      <td>0</td>\n",
       "      <td>1</td>\n",
       "      <td>0</td>\n",
       "    </tr>\n",
       "    <tr>\n",
       "      <th>4</th>\n",
       "      <td>34</td>\n",
       "      <td>27.500</td>\n",
       "      <td>1</td>\n",
       "      <td>5003.8530</td>\n",
       "      <td>0</td>\n",
       "      <td>0</td>\n",
       "      <td>0</td>\n",
       "      <td>0</td>\n",
       "      <td>1</td>\n",
       "    </tr>\n",
       "  </tbody>\n",
       "</table>\n",
       "</div>"
      ],
      "text/plain": [
       "   age     bmi  children     charges  sex_male  smoker_yes  region_northwest  \\\n",
       "0   41  31.600         0   6186.1270         0           0                 0   \n",
       "1   30  25.460         0   3645.0894         1           0                 0   \n",
       "2   18  30.115         0  21344.8467         0           0                 0   \n",
       "3   61  29.920         3  30942.1918         0           1                 0   \n",
       "4   34  27.500         1   5003.8530         0           0                 0   \n",
       "\n",
       "   region_southeast  region_southwest  \n",
       "0                 0                 1  \n",
       "1                 0                 0  \n",
       "2                 0                 0  \n",
       "3                 1                 0  \n",
       "4                 0                 1  "
      ]
     },
     "execution_count": 6,
     "metadata": {},
     "output_type": "execute_result"
    }
   ],
   "source": [
    "# 가변수화\n",
    "dumm_cols = ['sex', 'smoker', 'region']\n",
    "data1 = pd.get_dummies(data1, columns=dumm_cols, drop_first=True)\n",
    "\n",
    "# 확인\n",
    "data1.head()"
   ]
  },
  {
   "cell_type": "markdown",
   "id": "b4f4cd66-41d5-4295-b81b-0ec09a4d4ba5",
   "metadata": {},
   "source": [
    "**2) x, y 분리**"
   ]
  },
  {
   "cell_type": "code",
   "execution_count": 7,
   "id": "bf7dacf1-10ab-4592-9682-e671fc8e275c",
   "metadata": {
    "id": "bf7dacf1-10ab-4592-9682-e671fc8e275c"
   },
   "outputs": [],
   "source": [
    "# x, y 분리\n",
    "target = 'charges' \n",
    "x = data1.drop(target, axis=1)\n",
    "y = data1.loc[:, target]"
   ]
  },
  {
   "cell_type": "markdown",
   "id": "1ef854ed-12cf-4035-8990-bc3720e6b99e",
   "metadata": {},
   "source": [
    "**3) 학습용, 평가용 데이터 분리**"
   ]
  },
  {
   "cell_type": "code",
   "execution_count": 8,
   "id": "20c8ab5b-efdd-4cd6-9ba9-c5c6183334f0",
   "metadata": {
    "id": "20c8ab5b-efdd-4cd6-9ba9-c5c6183334f0"
   },
   "outputs": [],
   "source": [
    "# 학습용, 검증용 분리\n",
    "from sklearn.model_selection import train_test_split\n",
    "x_train, x_val, y_train, y_val = train_test_split(x, y, test_size=0.2, random_state=1)"
   ]
  },
  {
   "cell_type": "markdown",
   "id": "a79ede4f-9d0e-419b-b2a1-00d6d2cc658c",
   "metadata": {
    "id": "a79ede4f-9d0e-419b-b2a1-00d6d2cc658c"
   },
   "source": [
    "# 4.모델링\n",
    "\n",
    "- 본격적으로 모델을 선언하고 학습하고 평가하는 과정을 진행합니다.\n",
    "- 우선 회귀 문제인지 분류 문제인지 명확히 구분합니다."
   ]
  },
  {
   "cell_type": "code",
   "execution_count": 9,
   "id": "3c1845d1-dd10-4223-8d0c-d2918f8914cc",
   "metadata": {
    "id": "3c1845d1-dd10-4223-8d0c-d2918f8914cc"
   },
   "outputs": [],
   "source": [
    "# 불러오기\n",
    "from sklearn.tree import DecisionTreeRegressor\n",
    "from sklearn.metrics import mean_absolute_error, r2_score"
   ]
  },
  {
   "cell_type": "code",
   "execution_count": 10,
   "id": "2150657f-b046-4db1-8729-0e14454d23a8",
   "metadata": {
    "id": "2150657f-b046-4db1-8729-0e14454d23a8"
   },
   "outputs": [],
   "source": [
    "# 선언하기\n",
    "model = DecisionTreeRegressor(max_depth=5, random_state=1)"
   ]
  },
  {
   "cell_type": "code",
   "execution_count": 11,
   "id": "bc64f2fa-5218-4f1c-a931-f8cf96bd57f8",
   "metadata": {
    "id": "bc64f2fa-5218-4f1c-a931-f8cf96bd57f8"
   },
   "outputs": [
    {
     "data": {
      "text/html": [
       "<style>#sk-container-id-1 {color: black;background-color: white;}#sk-container-id-1 pre{padding: 0;}#sk-container-id-1 div.sk-toggleable {background-color: white;}#sk-container-id-1 label.sk-toggleable__label {cursor: pointer;display: block;width: 100%;margin-bottom: 0;padding: 0.3em;box-sizing: border-box;text-align: center;}#sk-container-id-1 label.sk-toggleable__label-arrow:before {content: \"▸\";float: left;margin-right: 0.25em;color: #696969;}#sk-container-id-1 label.sk-toggleable__label-arrow:hover:before {color: black;}#sk-container-id-1 div.sk-estimator:hover label.sk-toggleable__label-arrow:before {color: black;}#sk-container-id-1 div.sk-toggleable__content {max-height: 0;max-width: 0;overflow: hidden;text-align: left;background-color: #f0f8ff;}#sk-container-id-1 div.sk-toggleable__content pre {margin: 0.2em;color: black;border-radius: 0.25em;background-color: #f0f8ff;}#sk-container-id-1 input.sk-toggleable__control:checked~div.sk-toggleable__content {max-height: 200px;max-width: 100%;overflow: auto;}#sk-container-id-1 input.sk-toggleable__control:checked~label.sk-toggleable__label-arrow:before {content: \"▾\";}#sk-container-id-1 div.sk-estimator input.sk-toggleable__control:checked~label.sk-toggleable__label {background-color: #d4ebff;}#sk-container-id-1 div.sk-label input.sk-toggleable__control:checked~label.sk-toggleable__label {background-color: #d4ebff;}#sk-container-id-1 input.sk-hidden--visually {border: 0;clip: rect(1px 1px 1px 1px);clip: rect(1px, 1px, 1px, 1px);height: 1px;margin: -1px;overflow: hidden;padding: 0;position: absolute;width: 1px;}#sk-container-id-1 div.sk-estimator {font-family: monospace;background-color: #f0f8ff;border: 1px dotted black;border-radius: 0.25em;box-sizing: border-box;margin-bottom: 0.5em;}#sk-container-id-1 div.sk-estimator:hover {background-color: #d4ebff;}#sk-container-id-1 div.sk-parallel-item::after {content: \"\";width: 100%;border-bottom: 1px solid gray;flex-grow: 1;}#sk-container-id-1 div.sk-label:hover label.sk-toggleable__label {background-color: #d4ebff;}#sk-container-id-1 div.sk-serial::before {content: \"\";position: absolute;border-left: 1px solid gray;box-sizing: border-box;top: 0;bottom: 0;left: 50%;z-index: 0;}#sk-container-id-1 div.sk-serial {display: flex;flex-direction: column;align-items: center;background-color: white;padding-right: 0.2em;padding-left: 0.2em;position: relative;}#sk-container-id-1 div.sk-item {position: relative;z-index: 1;}#sk-container-id-1 div.sk-parallel {display: flex;align-items: stretch;justify-content: center;background-color: white;position: relative;}#sk-container-id-1 div.sk-item::before, #sk-container-id-1 div.sk-parallel-item::before {content: \"\";position: absolute;border-left: 1px solid gray;box-sizing: border-box;top: 0;bottom: 0;left: 50%;z-index: -1;}#sk-container-id-1 div.sk-parallel-item {display: flex;flex-direction: column;z-index: 1;position: relative;background-color: white;}#sk-container-id-1 div.sk-parallel-item:first-child::after {align-self: flex-end;width: 50%;}#sk-container-id-1 div.sk-parallel-item:last-child::after {align-self: flex-start;width: 50%;}#sk-container-id-1 div.sk-parallel-item:only-child::after {width: 0;}#sk-container-id-1 div.sk-dashed-wrapped {border: 1px dashed gray;margin: 0 0.4em 0.5em 0.4em;box-sizing: border-box;padding-bottom: 0.4em;background-color: white;}#sk-container-id-1 div.sk-label label {font-family: monospace;font-weight: bold;display: inline-block;line-height: 1.2em;}#sk-container-id-1 div.sk-label-container {text-align: center;}#sk-container-id-1 div.sk-container {/* jupyter's `normalize.less` sets `[hidden] { display: none; }` but bootstrap.min.css set `[hidden] { display: none !important; }` so we also need the `!important` here to be able to override the default hidden behavior on the sphinx rendered scikit-learn.org. See: https://github.com/scikit-learn/scikit-learn/issues/21755 */display: inline-block !important;position: relative;}#sk-container-id-1 div.sk-text-repr-fallback {display: none;}</style><div id=\"sk-container-id-1\" class=\"sk-top-container\"><div class=\"sk-text-repr-fallback\"><pre>DecisionTreeRegressor(max_depth=5, random_state=1)</pre><b>In a Jupyter environment, please rerun this cell to show the HTML representation or trust the notebook. <br />On GitHub, the HTML representation is unable to render, please try loading this page with nbviewer.org.</b></div><div class=\"sk-container\" hidden><div class=\"sk-item\"><div class=\"sk-estimator sk-toggleable\"><input class=\"sk-toggleable__control sk-hidden--visually\" id=\"sk-estimator-id-1\" type=\"checkbox\" checked><label for=\"sk-estimator-id-1\" class=\"sk-toggleable__label sk-toggleable__label-arrow\">DecisionTreeRegressor</label><div class=\"sk-toggleable__content\"><pre>DecisionTreeRegressor(max_depth=5, random_state=1)</pre></div></div></div></div></div>"
      ],
      "text/plain": [
       "DecisionTreeRegressor(max_depth=5, random_state=1)"
      ]
     },
     "execution_count": 11,
     "metadata": {},
     "output_type": "execute_result"
    }
   ],
   "source": [
    "# 학습하기\n",
    "model.fit(x_train, y_train)"
   ]
  },
  {
   "cell_type": "code",
   "execution_count": 12,
   "id": "5efe8d7b-12e8-451f-a220-19f7e79c1013",
   "metadata": {
    "id": "5efe8d7b-12e8-451f-a220-19f7e79c1013"
   },
   "outputs": [],
   "source": [
    "# 예측하기\n",
    "y_val_pred = model.predict(x_val)"
   ]
  },
  {
   "cell_type": "code",
   "execution_count": 13,
   "id": "d94ab110-a9d0-43da-ad4b-f38ad52e29ba",
   "metadata": {
    "id": "d94ab110-a9d0-43da-ad4b-f38ad52e29ba"
   },
   "outputs": [
    {
     "name": "stdout",
     "output_type": "stream",
     "text": [
      "MAE: 2848.925847322852\n",
      "R2: 0.8488510105762039\n"
     ]
    }
   ],
   "source": [
    "# 평가하기\n",
    "print('MAE:', mean_absolute_error(y_val, y_val_pred))\n",
    "print('R2:', r2_score(y_val, y_val_pred))   "
   ]
  },
  {
   "cell_type": "markdown",
   "id": "deaca819-f10b-4118-99cb-b9d9f0a3d2cf",
   "metadata": {
    "id": "deaca819-f10b-4118-99cb-b9d9f0a3d2cf"
   },
   "source": [
    "# 5.일반화된 성능\n",
    "\n",
    "- 과연 앞에서 만든 모델의 일반화된 성능은 어떻게 될까요?\n",
    "- 즉, 고객사에 어느 정도의 성능이 예상된다고 말할 수 있을까요?\n",
    "- K-Fold CV로 일반화된 성능을 예측합니다."
   ]
  },
  {
   "cell_type": "code",
   "execution_count": 14,
   "id": "bc47e868-927b-425d-868d-ac9e791e1695",
   "metadata": {
    "id": "bc47e868-927b-425d-868d-ac9e791e1695"
   },
   "outputs": [
    {
     "name": "stdout",
     "output_type": "stream",
     "text": [
      "[0.80393852 0.87010485 0.80735679 0.84036835 0.81403185]\n",
      "평균: 0.8271600698665711\n"
     ]
    }
   ],
   "source": [
    "# 불러오기\n",
    "from sklearn.model_selection import cross_val_score\n",
    "\n",
    "# 성능예측\n",
    "cv_score = cross_val_score(model, x_train, y_train, cv=5)\n",
    "\n",
    "# 결과\n",
    "print(cv_score)\n",
    "print('평균:', cv_score.mean())"
   ]
  },
  {
   "cell_type": "markdown",
   "id": "6a8194d4-3a81-433d-a35b-b3a137908583",
   "metadata": {
    "id": "6a8194d4-3a81-433d-a35b-b3a137908583"
   },
   "source": [
    "# 6. 성능 튜닝\n",
    "\n",
    "- 앞에서 max_depth 값을 5로 고정함이 아쉽습니다.\n",
    "- Grid Search로 최적의 하이퍼파라미터를 찾아봅니다."
   ]
  },
  {
   "cell_type": "code",
   "execution_count": 15,
   "id": "fae0847d-be55-4842-a165-a56bcf78e8dc",
   "metadata": {
    "id": "fae0847d-be55-4842-a165-a56bcf78e8dc"
   },
   "outputs": [],
   "source": [
    "# 불러오기\n",
    "from sklearn.model_selection import GridSearchCV\n",
    "\n",
    "# 기본 모델 선언\n",
    "model_dt = DecisionTreeRegressor(random_state=1)\n",
    "\n",
    "# 파라미터 선언\n",
    "params = {'max_depth': range(1, 51)}\n",
    "\n",
    "# 모델 선언\n",
    "model = GridSearchCV(model_dt,\n",
    "                     params,\n",
    "                     cv=5, \n",
    "                     scoring='r2')                     "
   ]
  },
  {
   "cell_type": "code",
   "execution_count": 16,
   "id": "29233024-9f78-4d81-8635-f366f130f912",
   "metadata": {
    "id": "29233024-9f78-4d81-8635-f366f130f912"
   },
   "outputs": [
    {
     "data": {
      "text/html": [
       "<style>#sk-container-id-2 {color: black;background-color: white;}#sk-container-id-2 pre{padding: 0;}#sk-container-id-2 div.sk-toggleable {background-color: white;}#sk-container-id-2 label.sk-toggleable__label {cursor: pointer;display: block;width: 100%;margin-bottom: 0;padding: 0.3em;box-sizing: border-box;text-align: center;}#sk-container-id-2 label.sk-toggleable__label-arrow:before {content: \"▸\";float: left;margin-right: 0.25em;color: #696969;}#sk-container-id-2 label.sk-toggleable__label-arrow:hover:before {color: black;}#sk-container-id-2 div.sk-estimator:hover label.sk-toggleable__label-arrow:before {color: black;}#sk-container-id-2 div.sk-toggleable__content {max-height: 0;max-width: 0;overflow: hidden;text-align: left;background-color: #f0f8ff;}#sk-container-id-2 div.sk-toggleable__content pre {margin: 0.2em;color: black;border-radius: 0.25em;background-color: #f0f8ff;}#sk-container-id-2 input.sk-toggleable__control:checked~div.sk-toggleable__content {max-height: 200px;max-width: 100%;overflow: auto;}#sk-container-id-2 input.sk-toggleable__control:checked~label.sk-toggleable__label-arrow:before {content: \"▾\";}#sk-container-id-2 div.sk-estimator input.sk-toggleable__control:checked~label.sk-toggleable__label {background-color: #d4ebff;}#sk-container-id-2 div.sk-label input.sk-toggleable__control:checked~label.sk-toggleable__label {background-color: #d4ebff;}#sk-container-id-2 input.sk-hidden--visually {border: 0;clip: rect(1px 1px 1px 1px);clip: rect(1px, 1px, 1px, 1px);height: 1px;margin: -1px;overflow: hidden;padding: 0;position: absolute;width: 1px;}#sk-container-id-2 div.sk-estimator {font-family: monospace;background-color: #f0f8ff;border: 1px dotted black;border-radius: 0.25em;box-sizing: border-box;margin-bottom: 0.5em;}#sk-container-id-2 div.sk-estimator:hover {background-color: #d4ebff;}#sk-container-id-2 div.sk-parallel-item::after {content: \"\";width: 100%;border-bottom: 1px solid gray;flex-grow: 1;}#sk-container-id-2 div.sk-label:hover label.sk-toggleable__label {background-color: #d4ebff;}#sk-container-id-2 div.sk-serial::before {content: \"\";position: absolute;border-left: 1px solid gray;box-sizing: border-box;top: 0;bottom: 0;left: 50%;z-index: 0;}#sk-container-id-2 div.sk-serial {display: flex;flex-direction: column;align-items: center;background-color: white;padding-right: 0.2em;padding-left: 0.2em;position: relative;}#sk-container-id-2 div.sk-item {position: relative;z-index: 1;}#sk-container-id-2 div.sk-parallel {display: flex;align-items: stretch;justify-content: center;background-color: white;position: relative;}#sk-container-id-2 div.sk-item::before, #sk-container-id-2 div.sk-parallel-item::before {content: \"\";position: absolute;border-left: 1px solid gray;box-sizing: border-box;top: 0;bottom: 0;left: 50%;z-index: -1;}#sk-container-id-2 div.sk-parallel-item {display: flex;flex-direction: column;z-index: 1;position: relative;background-color: white;}#sk-container-id-2 div.sk-parallel-item:first-child::after {align-self: flex-end;width: 50%;}#sk-container-id-2 div.sk-parallel-item:last-child::after {align-self: flex-start;width: 50%;}#sk-container-id-2 div.sk-parallel-item:only-child::after {width: 0;}#sk-container-id-2 div.sk-dashed-wrapped {border: 1px dashed gray;margin: 0 0.4em 0.5em 0.4em;box-sizing: border-box;padding-bottom: 0.4em;background-color: white;}#sk-container-id-2 div.sk-label label {font-family: monospace;font-weight: bold;display: inline-block;line-height: 1.2em;}#sk-container-id-2 div.sk-label-container {text-align: center;}#sk-container-id-2 div.sk-container {/* jupyter's `normalize.less` sets `[hidden] { display: none; }` but bootstrap.min.css set `[hidden] { display: none !important; }` so we also need the `!important` here to be able to override the default hidden behavior on the sphinx rendered scikit-learn.org. See: https://github.com/scikit-learn/scikit-learn/issues/21755 */display: inline-block !important;position: relative;}#sk-container-id-2 div.sk-text-repr-fallback {display: none;}</style><div id=\"sk-container-id-2\" class=\"sk-top-container\"><div class=\"sk-text-repr-fallback\"><pre>GridSearchCV(cv=5, estimator=DecisionTreeRegressor(random_state=1),\n",
       "             param_grid={&#x27;max_depth&#x27;: range(1, 51)}, scoring=&#x27;r2&#x27;)</pre><b>In a Jupyter environment, please rerun this cell to show the HTML representation or trust the notebook. <br />On GitHub, the HTML representation is unable to render, please try loading this page with nbviewer.org.</b></div><div class=\"sk-container\" hidden><div class=\"sk-item sk-dashed-wrapped\"><div class=\"sk-label-container\"><div class=\"sk-label sk-toggleable\"><input class=\"sk-toggleable__control sk-hidden--visually\" id=\"sk-estimator-id-2\" type=\"checkbox\" ><label for=\"sk-estimator-id-2\" class=\"sk-toggleable__label sk-toggleable__label-arrow\">GridSearchCV</label><div class=\"sk-toggleable__content\"><pre>GridSearchCV(cv=5, estimator=DecisionTreeRegressor(random_state=1),\n",
       "             param_grid={&#x27;max_depth&#x27;: range(1, 51)}, scoring=&#x27;r2&#x27;)</pre></div></div></div><div class=\"sk-parallel\"><div class=\"sk-parallel-item\"><div class=\"sk-item\"><div class=\"sk-label-container\"><div class=\"sk-label sk-toggleable\"><input class=\"sk-toggleable__control sk-hidden--visually\" id=\"sk-estimator-id-3\" type=\"checkbox\" ><label for=\"sk-estimator-id-3\" class=\"sk-toggleable__label sk-toggleable__label-arrow\">estimator: DecisionTreeRegressor</label><div class=\"sk-toggleable__content\"><pre>DecisionTreeRegressor(random_state=1)</pre></div></div></div><div class=\"sk-serial\"><div class=\"sk-item\"><div class=\"sk-estimator sk-toggleable\"><input class=\"sk-toggleable__control sk-hidden--visually\" id=\"sk-estimator-id-4\" type=\"checkbox\" ><label for=\"sk-estimator-id-4\" class=\"sk-toggleable__label sk-toggleable__label-arrow\">DecisionTreeRegressor</label><div class=\"sk-toggleable__content\"><pre>DecisionTreeRegressor(random_state=1)</pre></div></div></div></div></div></div></div></div></div></div>"
      ],
      "text/plain": [
       "GridSearchCV(cv=5, estimator=DecisionTreeRegressor(random_state=1),\n",
       "             param_grid={'max_depth': range(1, 51)}, scoring='r2')"
      ]
     },
     "execution_count": 16,
     "metadata": {},
     "output_type": "execute_result"
    }
   ],
   "source": [
    "# 학습하기\n",
    "model.fit(x_train, y_train)"
   ]
  },
  {
   "cell_type": "code",
   "execution_count": 17,
   "id": "17b93dee-884d-488d-a11a-825c01cec105",
   "metadata": {
    "id": "17b93dee-884d-488d-a11a-825c01cec105"
   },
   "outputs": [
    {
     "name": "stdout",
     "output_type": "stream",
     "text": [
      "{'max_depth': 4}\n",
      "0.83462894168412\n"
     ]
    }
   ],
   "source": [
    "# 예측 결과 확인\n",
    "print(model.best_params_)\n",
    "print(model.best_score_) "
   ]
  },
  {
   "cell_type": "code",
   "execution_count": 18,
   "id": "8dde8737-ec77-4a12-b69b-6a64c72b9958",
   "metadata": {
    "id": "8dde8737-ec77-4a12-b69b-6a64c72b9958"
   },
   "outputs": [
    {
     "name": "stdout",
     "output_type": "stream",
     "text": [
      "0.8577535714634761\n"
     ]
    }
   ],
   "source": [
    "# 성능 검증\n",
    "y_val_pred = model.predict(x_val)\n",
    "print(r2_score(y_val, y_val_pred)) "
   ]
  },
  {
   "cell_type": "markdown",
   "id": "fdd57657-6630-428f-a197-613fe64ef7a5",
   "metadata": {
    "id": "fdd57657-6630-428f-a197-613fe64ef7a5"
   },
   "source": [
    "# 7.최종 평가\n",
    "\n",
    "- 최적의 하이퍼파라미터로 학습된 모델로 예측합니다.\n",
    "- 평가 데이터에 대해서도 필요한 전처리를 수행합니다."
   ]
  },
  {
   "cell_type": "code",
   "execution_count": 19,
   "id": "dd6fb605-3084-45a3-bcfd-c7545a43b27b",
   "metadata": {
    "id": "dd6fb605-3084-45a3-bcfd-c7545a43b27b"
   },
   "outputs": [
    {
     "data": {
      "text/html": [
       "<div>\n",
       "<style scoped>\n",
       "    .dataframe tbody tr th:only-of-type {\n",
       "        vertical-align: middle;\n",
       "    }\n",
       "\n",
       "    .dataframe tbody tr th {\n",
       "        vertical-align: top;\n",
       "    }\n",
       "\n",
       "    .dataframe thead th {\n",
       "        text-align: right;\n",
       "    }\n",
       "</style>\n",
       "<table border=\"1\" class=\"dataframe\">\n",
       "  <thead>\n",
       "    <tr style=\"text-align: right;\">\n",
       "      <th></th>\n",
       "      <th>age</th>\n",
       "      <th>sex</th>\n",
       "      <th>bmi</th>\n",
       "      <th>children</th>\n",
       "      <th>smoker</th>\n",
       "      <th>region</th>\n",
       "    </tr>\n",
       "  </thead>\n",
       "  <tbody>\n",
       "    <tr>\n",
       "      <th>0</th>\n",
       "      <td>19</td>\n",
       "      <td>female</td>\n",
       "      <td>27.900</td>\n",
       "      <td>0</td>\n",
       "      <td>yes</td>\n",
       "      <td>southwest</td>\n",
       "    </tr>\n",
       "    <tr>\n",
       "      <th>1</th>\n",
       "      <td>18</td>\n",
       "      <td>male</td>\n",
       "      <td>33.770</td>\n",
       "      <td>1</td>\n",
       "      <td>no</td>\n",
       "      <td>southeast</td>\n",
       "    </tr>\n",
       "    <tr>\n",
       "      <th>2</th>\n",
       "      <td>28</td>\n",
       "      <td>male</td>\n",
       "      <td>33.000</td>\n",
       "      <td>3</td>\n",
       "      <td>no</td>\n",
       "      <td>southeast</td>\n",
       "    </tr>\n",
       "    <tr>\n",
       "      <th>3</th>\n",
       "      <td>33</td>\n",
       "      <td>male</td>\n",
       "      <td>22.705</td>\n",
       "      <td>0</td>\n",
       "      <td>no</td>\n",
       "      <td>northwest</td>\n",
       "    </tr>\n",
       "    <tr>\n",
       "      <th>4</th>\n",
       "      <td>32</td>\n",
       "      <td>male</td>\n",
       "      <td>28.880</td>\n",
       "      <td>0</td>\n",
       "      <td>no</td>\n",
       "      <td>northwest</td>\n",
       "    </tr>\n",
       "  </tbody>\n",
       "</table>\n",
       "</div>"
      ],
      "text/plain": [
       "   age     sex     bmi  children smoker     region\n",
       "0   19  female  27.900         0    yes  southwest\n",
       "1   18    male  33.770         1     no  southeast\n",
       "2   28    male  33.000         3     no  southeast\n",
       "3   33    male  22.705         0     no  northwest\n",
       "4   32    male  28.880         0     no  northwest"
      ]
     },
     "execution_count": 19,
     "metadata": {},
     "output_type": "execute_result"
    }
   ],
   "source": [
    "# 평가 데이터 확인\n",
    "data2.head()"
   ]
  },
  {
   "cell_type": "code",
   "execution_count": 20,
   "id": "0ee19f66-4a5c-4ef4-85a2-6df872bee889",
   "metadata": {
    "id": "0ee19f66-4a5c-4ef4-85a2-6df872bee889"
   },
   "outputs": [
    {
     "data": {
      "text/html": [
       "<div>\n",
       "<style scoped>\n",
       "    .dataframe tbody tr th:only-of-type {\n",
       "        vertical-align: middle;\n",
       "    }\n",
       "\n",
       "    .dataframe tbody tr th {\n",
       "        vertical-align: top;\n",
       "    }\n",
       "\n",
       "    .dataframe thead th {\n",
       "        text-align: right;\n",
       "    }\n",
       "</style>\n",
       "<table border=\"1\" class=\"dataframe\">\n",
       "  <thead>\n",
       "    <tr style=\"text-align: right;\">\n",
       "      <th></th>\n",
       "      <th>age</th>\n",
       "      <th>bmi</th>\n",
       "      <th>children</th>\n",
       "      <th>sex_male</th>\n",
       "      <th>smoker_yes</th>\n",
       "      <th>region_northwest</th>\n",
       "      <th>region_southeast</th>\n",
       "      <th>region_southwest</th>\n",
       "    </tr>\n",
       "  </thead>\n",
       "  <tbody>\n",
       "    <tr>\n",
       "      <th>0</th>\n",
       "      <td>19</td>\n",
       "      <td>27.900</td>\n",
       "      <td>0</td>\n",
       "      <td>0</td>\n",
       "      <td>1</td>\n",
       "      <td>0</td>\n",
       "      <td>0</td>\n",
       "      <td>1</td>\n",
       "    </tr>\n",
       "    <tr>\n",
       "      <th>1</th>\n",
       "      <td>18</td>\n",
       "      <td>33.770</td>\n",
       "      <td>1</td>\n",
       "      <td>1</td>\n",
       "      <td>0</td>\n",
       "      <td>0</td>\n",
       "      <td>1</td>\n",
       "      <td>0</td>\n",
       "    </tr>\n",
       "    <tr>\n",
       "      <th>2</th>\n",
       "      <td>28</td>\n",
       "      <td>33.000</td>\n",
       "      <td>3</td>\n",
       "      <td>1</td>\n",
       "      <td>0</td>\n",
       "      <td>0</td>\n",
       "      <td>1</td>\n",
       "      <td>0</td>\n",
       "    </tr>\n",
       "    <tr>\n",
       "      <th>3</th>\n",
       "      <td>33</td>\n",
       "      <td>22.705</td>\n",
       "      <td>0</td>\n",
       "      <td>1</td>\n",
       "      <td>0</td>\n",
       "      <td>1</td>\n",
       "      <td>0</td>\n",
       "      <td>0</td>\n",
       "    </tr>\n",
       "    <tr>\n",
       "      <th>4</th>\n",
       "      <td>32</td>\n",
       "      <td>28.880</td>\n",
       "      <td>0</td>\n",
       "      <td>1</td>\n",
       "      <td>0</td>\n",
       "      <td>1</td>\n",
       "      <td>0</td>\n",
       "      <td>0</td>\n",
       "    </tr>\n",
       "  </tbody>\n",
       "</table>\n",
       "</div>"
      ],
      "text/plain": [
       "   age     bmi  children  sex_male  smoker_yes  region_northwest  \\\n",
       "0   19  27.900         0         0           1                 0   \n",
       "1   18  33.770         1         1           0                 0   \n",
       "2   28  33.000         3         1           0                 0   \n",
       "3   33  22.705         0         1           0                 1   \n",
       "4   32  28.880         0         1           0                 1   \n",
       "\n",
       "   region_southeast  region_southwest  \n",
       "0                 0                 1  \n",
       "1                 1                 0  \n",
       "2                 1                 0  \n",
       "3                 0                 0  \n",
       "4                 0                 0  "
      ]
     },
     "execution_count": 20,
     "metadata": {},
     "output_type": "execute_result"
    }
   ],
   "source": [
    "# 평가 데이터 가변수화\n",
    "dumm_cols = ['sex', 'smoker', 'region']\n",
    "data2 = pd.get_dummies(data2, columns=dumm_cols, drop_first=True)\n",
    "\n",
    "# 확인\n",
    "data2.head()"
   ]
  },
  {
   "cell_type": "code",
   "execution_count": 21,
   "id": "f0d8cc19-3b33-4d6d-baf8-e571f5f8f59e",
   "metadata": {
    "id": "f0d8cc19-3b33-4d6d-baf8-e571f5f8f59e"
   },
   "outputs": [],
   "source": [
    "# 예측하기\n",
    "x_test = data2\n",
    "y_pred = model.predict(x_test)"
   ]
  },
  {
   "cell_type": "code",
   "execution_count": 22,
   "id": "1f5c7602-9de3-4c25-830d-bff45befe3fe",
   "metadata": {
    "id": "1f5c7602-9de3-4c25-830d-bff45befe3fe"
   },
   "outputs": [
    {
     "data": {
      "text/plain": [
       "array([16167.41812   ,  6117.63435788,  6117.63435788,  5235.84631558,\n",
       "        5235.84631558,  5235.84631558,  9579.59878583,  7672.04703104,\n",
       "        7672.04703104, 12934.15456351])"
      ]
     },
     "execution_count": 22,
     "metadata": {},
     "output_type": "execute_result"
    }
   ],
   "source": [
    "# 확인\n",
    "y_pred[:10]"
   ]
  },
  {
   "cell_type": "markdown",
   "id": "979be424-21ec-4862-92b7-66f109d0dc6c",
   "metadata": {
    "id": "979be424-21ec-4862-92b7-66f109d0dc6c"
   },
   "source": [
    "# 8. 파일 제출\n",
    "\n",
    "- 모델로 예측한 값을 파일에 붙여 엑셀 파일로 저장해 고객사에 제출합니다."
   ]
  },
  {
   "cell_type": "code",
   "execution_count": null,
   "id": "788ebcba-83aa-47e9-b334-6f7a953d8a44",
   "metadata": {
    "id": "788ebcba-83aa-47e9-b334-6f7a953d8a44"
   },
   "outputs": [],
   "source": [
    "# 파일 다시 불러오기\n",
    "path = 'https://raw.githubusercontent.com/Jangrae/csv/master/insurance_test.csv'\n",
    "final = pd.read_csv(path)\n",
    "\n",
    "# 예측결과 추가\n",
    "final['charges'] = y_pred.round(4)\n",
    "\n",
    "# 확인\n",
    "final"
   ]
  },
  {
   "cell_type": "code",
   "execution_count": null,
   "id": "237ba007-5d6d-4a25-8245-07eb88ccb1ad",
   "metadata": {
    "id": "237ba007-5d6d-4a25-8245-07eb88ccb1ad"
   },
   "outputs": [],
   "source": [
    "# 엑셀로 저장\n",
    "final.to_excel('InsurancePred.xlsx')"
   ]
  },
  {
   "cell_type": "markdown",
   "id": "306cecf7-3107-42ec-9549-7a043cc77a50",
   "metadata": {
    "id": "306cecf7-3107-42ec-9549-7a043cc77a50"
   },
   "source": [
    "# 9.정리\n",
    "\n",
    "- 실제 의료비가 지출된 경우 우리 모델의 성능이 확인될 것입니다.\n",
    "- 우리는 학습용 데이터로 나름 최선을 다했습니다.\n",
    "- 그래도 뭔가 아쉬움이 남지요? \n",
    "- 성능이 더 좋은 알고리즘을 배워서 사용할 수 있다면...."
   ]
  }
 ],
 "metadata": {
  "colab": {
   "collapsed_sections": [],
   "provenance": []
  },
  "kernelspec": {
   "display_name": "base",
   "language": "python",
   "name": "python3"
  },
  "language_info": {
   "codemirror_mode": {
    "name": "ipython",
    "version": 3
   },
   "file_extension": ".py",
   "mimetype": "text/x-python",
   "name": "python",
   "nbconvert_exporter": "python",
   "pygments_lexer": "ipython3",
   "version": "3.8.3"
  },
  "vscode": {
   "interpreter": {
    "hash": "ad2bdc8ecc057115af97d19610ffacc2b4e99fae6737bb82f5d7fb13d2f2c186"
   }
  }
 },
 "nbformat": 4,
 "nbformat_minor": 5
}
