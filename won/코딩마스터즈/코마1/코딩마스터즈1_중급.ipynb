{
 "cells": [
  {
   "cell_type": "code",
   "execution_count": 2,
   "metadata": {},
   "outputs": [
    {
     "ename": "KeyboardInterrupt",
     "evalue": "",
     "output_type": "error",
     "traceback": [
      "\u001b[1;31m---------------------------------------------------------------------------\u001b[0m",
      "\u001b[1;31mKeyboardInterrupt\u001b[0m                         Traceback (most recent call last)",
      "\u001b[1;32m~\\AppData\\Local\\Temp\\ipykernel_14412\\906360560.py\u001b[0m in \u001b[0;36m<module>\u001b[1;34m\u001b[0m\n\u001b[0;32m     35\u001b[0m \u001b[1;32mwhile\u001b[0m \u001b[0mlen\u001b[0m\u001b[1;33m(\u001b[0m\u001b[0mpath\u001b[0m\u001b[1;33m)\u001b[0m \u001b[1;33m<\u001b[0m \u001b[0mn\u001b[0m\u001b[1;33m:\u001b[0m\u001b[1;33m\u001b[0m\u001b[1;33m\u001b[0m\u001b[0m\n\u001b[0;32m     36\u001b[0m     \u001b[1;32mfor\u001b[0m \u001b[0mdest\u001b[0m\u001b[1;33m,\u001b[0m \u001b[0mweight\u001b[0m \u001b[1;32min\u001b[0m \u001b[0medges\u001b[0m\u001b[1;33m[\u001b[0m\u001b[0mpath\u001b[0m\u001b[1;33m[\u001b[0m\u001b[1;33m-\u001b[0m\u001b[1;36m1\u001b[0m\u001b[1;33m]\u001b[0m\u001b[1;33m]\u001b[0m\u001b[1;33m:\u001b[0m\u001b[1;33m\u001b[0m\u001b[1;33m\u001b[0m\u001b[0m\n\u001b[1;32m---> 37\u001b[1;33m         \u001b[1;32mif\u001b[0m \u001b[1;32mnot\u001b[0m \u001b[0mvisited\u001b[0m\u001b[1;33m[\u001b[0m\u001b[0mdest\u001b[0m\u001b[1;33m]\u001b[0m\u001b[1;33m:\u001b[0m\u001b[1;33m\u001b[0m\u001b[1;33m\u001b[0m\u001b[0m\n\u001b[0m\u001b[0;32m     38\u001b[0m             \u001b[0mpath\u001b[0m\u001b[1;33m.\u001b[0m\u001b[0mappend\u001b[0m\u001b[1;33m(\u001b[0m\u001b[0mdest\u001b[0m\u001b[1;33m)\u001b[0m\u001b[1;33m\u001b[0m\u001b[1;33m\u001b[0m\u001b[0m\n\u001b[0;32m     39\u001b[0m             \u001b[0mvisited\u001b[0m\u001b[1;33m[\u001b[0m\u001b[0mdest\u001b[0m\u001b[1;33m]\u001b[0m \u001b[1;33m=\u001b[0m \u001b[1;32mTrue\u001b[0m\u001b[1;33m\u001b[0m\u001b[1;33m\u001b[0m\u001b[0m\n",
      "\u001b[1;31mKeyboardInterrupt\u001b[0m: "
     ]
    }
   ],
   "source": [
    "#1\n",
    "import sys\n",
    "import heapq\n",
    "\n",
    "# 입력 받기\n",
    "n, m = map(int, input().split())\n",
    "\n",
    "# 간선 리스트 초기화\n",
    "edges = [[] for _ in range(n+1)]\n",
    "\n",
    "# 간선 추가\n",
    "for _ in range(m):\n",
    "    a, b, c = map(int, input().split())\n",
    "    edges[a].append((b, c))\n",
    "    edges[b].append((a, c))\n",
    "\n",
    "# 프림 알고리즘으로 최소 신장 트리 구하기\n",
    "visited = [False] * (n+1)\n",
    "heap = [(0, 1)]  # (비용, 정점) 튜플\n",
    "total_cost = 0\n",
    "while heap:\n",
    "    cost, node = heapq.heappop(heap)\n",
    "    if visited[node]:\n",
    "        continue\n",
    "    visited[node] = True\n",
    "    total_cost += cost\n",
    "    for dest, weight in edges[node]:\n",
    "        if not visited[dest]:\n",
    "            heapq.heappush(heap, (weight, dest))\n",
    "\n",
    "# 최소 신장 트리 순회 경로 계산\n",
    "path = [1]\n",
    "visited = [False] * (n+1)\n",
    "visited[1] = True\n",
    "while len(path) < n:\n",
    "    for dest, weight in edges[path[-1]]:\n",
    "        if not visited[dest]:\n",
    "            path.append(dest)\n",
    "            visited[dest] = True\n",
    "            break\n",
    "path.append(1)  # 출발지로 돌아가기\n",
    "\n",
    "# 결과 출력\n",
    "print(total_cost)"
   ]
  },
  {
   "cell_type": "code",
   "execution_count": 10,
   "metadata": {},
   "outputs": [
    {
     "name": "stdout",
     "output_type": "stream",
     "text": [
      "[0, 0, 0]\n",
      "[0]\n",
      "[1, 1]\n",
      "[2]\n",
      "[0, 0, 0]\n"
     ]
    },
    {
     "data": {
      "text/plain": [
       "[1, 5]"
      ]
     },
     "execution_count": 10,
     "metadata": {},
     "output_type": "execute_result"
    }
   ],
   "source": [
    "#2\n",
    "n = int(input())\n",
    "x = []\n",
    "for i in range(n):\n",
    "    x.append(int(input()))\n",
    "ans = []    \n",
    "for i in range(1,min(x)+1):\n",
    "    k = []\n",
    "    k.append(x[0]%i)\n",
    "    for j in x[1:]:\n",
    "        if j % i == k[-1]:\n",
    "            k.append(j%i)\n",
    "        if len(k) == n:\n",
    "            ans.append(i)\n",
    "       \n",
    "        \n",
    "print(*ans)\n",
    "        \n",
    "        \n",
    "        "
   ]
  },
  {
   "cell_type": "code",
   "execution_count": 7,
   "metadata": {},
   "outputs": [
    {
     "name": "stdout",
     "output_type": "stream",
     "text": [
      "0\n",
      "0\n"
     ]
    }
   ],
   "source": [
    "#3\n",
    "\n"
   ]
  },
  {
   "cell_type": "code",
   "execution_count": 9,
   "metadata": {},
   "outputs": [
    {
     "name": "stdout",
     "output_type": "stream",
     "text": [
      "1\n"
     ]
    }
   ],
   "source": [
    "#4\n"
   ]
  },
  {
   "cell_type": "code",
   "execution_count": 10,
   "metadata": {},
   "outputs": [
    {
     "name": "stdout",
     "output_type": "stream",
     "text": [
      "7\n"
     ]
    }
   ],
   "source": [
    "#5\n"
   ]
  },
  {
   "cell_type": "code",
   "execution_count": 24,
   "metadata": {},
   "outputs": [
    {
     "name": "stdout",
     "output_type": "stream",
     "text": [
      "1\n"
     ]
    }
   ],
   "source": [
    "#6\n",
    "def is_bipartite(adj_list, V):\n",
    "    colors = [-1] * V  # -1: uncolored, 0: color 1, 1: color 2\n",
    "    for i in range(V):\n",
    "        if colors[i] == -1:\n",
    "            stack = [i]\n",
    "            colors[i] = 0\n",
    "            while stack:\n",
    "                u = stack.pop()\n",
    "                for v in adj_list[u]:\n",
    "                    if colors[v] == -1:\n",
    "                        colors[v] = 1 - colors[u]\n",
    "                        stack.append(v)\n",
    "                    elif colors[v] == colors[u]:\n",
    "                        return False\n",
    "    return True\n",
    "\n",
    "\n",
    "V, E = map(int, input().split())\n",
    "adj_list = [[] for _ in range(V)]\n",
    "for _ in range(E):\n",
    "    u, v = map(int, input().split())\n",
    "    adj_list[u-1].append(v-1)\n",
    "    adj_list[v-1].append(u-1)\n",
    "\n",
    "if is_bipartite(adj_list, V):\n",
    "    print(1)\n",
    "else:\n",
    "    print(0)"
   ]
  },
  {
   "cell_type": "code",
   "execution_count": null,
   "metadata": {},
   "outputs": [],
   "source": [
    "#7\n",
    "n, m = map(int, input().split())\n",
    "\n",
    "grid = []\n",
    "for i in range(n):\n",
    "    row = list(map(int, input().split()))\n",
    "    grid.append(row)\n",
    "\n",
    "max_area = 0\n",
    "\n",
    "for i in range(n):\n",
    "    for j in range(m):\n",
    "        for k in range(1, min(n-i, m-j)):\n",
    "            # 좌상, 우상, 좌하, 우하의 좌표\n",
    "            x1, y1 = i, j\n",
    "            x2, y2 = i, j+k\n",
    "            x3, y3 = i+k, j\n",
    "            x4, y4 = i+k, j+k\n",
    "\n",
    "            # 모든 좌표가 서로 다르고, 좋아하는 수가 모두 같은 경우\n",
    "            if len(set([grid[x1][y1], grid[x2][y2], grid[x3][y3], grid[x4][y4]])) == 1:\n",
    "                area = (k+1) * (k+1)\n",
    "                max_area = max(max_area, area)\n",
    "\n",
    "print(max_area)"
   ]
  },
  {
   "cell_type": "code",
   "execution_count": null,
   "metadata": {},
   "outputs": [],
   "source": [
    "#8"
   ]
  },
  {
   "cell_type": "code",
   "execution_count": 13,
   "metadata": {},
   "outputs": [
    {
     "name": "stdout",
     "output_type": "stream",
     "text": [
      "2\n",
      "2\n"
     ]
    }
   ],
   "source": [
    "#9\n",
    "import itertools\n",
    "\n",
    "# 입력 받기\n",
    "N = int(input())\n",
    "S = [list(map(int, input().split())) for _ in range(N)]\n",
    "\n",
    "# 모든 조합 생성\n",
    "combs = itertools.combinations(range(N), N//2)\n",
    "\n",
    "# 영양 점수 계산\n",
    "min_diff = float('inf')\n",
    "for comb in combs:\n",
    "    comb_score1 = sum(S[i][j] + S[j][i] for i, j in itertools.combinations(comb, 2))\n",
    "    comb_score2 = sum(S[i][j] + S[j][i] for i, j in itertools.combinations(set(range(N)) - set(comb), 2))\n",
    "    diff = abs(comb_score1 - comb_score2)\n",
    "    min_diff = min(min_diff, diff)\n",
    "\n",
    "# 결과 출력\n",
    "\n",
    "print(min_diff)"
   ]
  },
  {
   "cell_type": "code",
   "execution_count": 26,
   "metadata": {},
   "outputs": [],
   "source": [
    "#10"
   ]
  },
  {
   "cell_type": "code",
   "execution_count": 27,
   "metadata": {},
   "outputs": [
    {
     "name": "stdout",
     "output_type": "stream",
     "text": [
      "9\n"
     ]
    }
   ],
   "source": [
    "#11\n",
    "n = int(input())\n",
    "print((n-1)*2-1)"
   ]
  },
  {
   "cell_type": "code",
   "execution_count": 33,
   "metadata": {},
   "outputs": [
    {
     "ename": "TypeError",
     "evalue": "'int' object is not callable",
     "output_type": "error",
     "traceback": [
      "\u001b[1;31m---------------------------------------------------------------------------\u001b[0m",
      "\u001b[1;31mTypeError\u001b[0m                                 Traceback (most recent call last)",
      "\u001b[1;32m~\\AppData\\Local\\Temp\\ipykernel_5016\\69772457.py\u001b[0m in \u001b[0;36m<module>\u001b[1;34m\u001b[0m\n\u001b[0;32m     10\u001b[0m \u001b[1;32melse\u001b[0m\u001b[1;33m:\u001b[0m\u001b[1;33m\u001b[0m\u001b[1;33m\u001b[0m\u001b[0m\n\u001b[0;32m     11\u001b[0m     \u001b[1;32mfor\u001b[0m \u001b[0mi\u001b[0m \u001b[1;32min\u001b[0m \u001b[0mrange\u001b[0m\u001b[1;33m(\u001b[0m\u001b[0mlen\u001b[0m\u001b[1;33m(\u001b[0m\u001b[0mx\u001b[0m\u001b[1;33m)\u001b[0m\u001b[1;33m)\u001b[0m\u001b[1;33m:\u001b[0m\u001b[1;33m\u001b[0m\u001b[1;33m\u001b[0m\u001b[0m\n\u001b[1;32m---> 12\u001b[1;33m         \u001b[0msum\u001b[0m \u001b[1;33m=\u001b[0m \u001b[0msum\u001b[0m\u001b[1;33m(\u001b[0m\u001b[0mx\u001b[0m\u001b[1;33m[\u001b[0m\u001b[0mi\u001b[0m\u001b[1;33m:\u001b[0m\u001b[1;33m]\u001b[0m\u001b[1;33m)\u001b[0m\u001b[1;33m\u001b[0m\u001b[1;33m\u001b[0m\u001b[0m\n\u001b[0m\u001b[0;32m     13\u001b[0m         \u001b[0mmax\u001b[0m \u001b[1;33m=\u001b[0m \u001b[0msum\u001b[0m\u001b[1;33m//\u001b[0m\u001b[1;33m(\u001b[0m\u001b[0mlen\u001b[0m\u001b[1;33m(\u001b[0m\u001b[0mx\u001b[0m\u001b[1;33m[\u001b[0m\u001b[0mi\u001b[0m\u001b[1;33m:\u001b[0m\u001b[1;33m]\u001b[0m\u001b[1;33m)\u001b[0m\u001b[1;33m)\u001b[0m\u001b[1;33m\u001b[0m\u001b[1;33m\u001b[0m\u001b[0m\n\u001b[0;32m     14\u001b[0m         \u001b[1;32mif\u001b[0m \u001b[0mi\u001b[0m \u001b[1;33m<=\u001b[0m \u001b[0mmax\u001b[0m\u001b[1;33m:\u001b[0m\u001b[1;33m\u001b[0m\u001b[1;33m\u001b[0m\u001b[0m\n",
      "\u001b[1;31mTypeError\u001b[0m: 'int' object is not callable"
     ]
    }
   ],
   "source": [
    "#12\n",
    "n = int(input())\n",
    "request = list(map(int, input().split()))\n",
    "total = int(input())\n",
    "\n",
    "if sum(request) <= total:\n",
    "    print(max(request))\n",
    "else:\n",
    "    left = 0\n",
    "    right = total\n",
    "    ans = 0\n",
    "    \n",
    "    while left <= right:\n",
    "        mid = (left + right) // 2\n",
    "        temp = 0\n",
    "        for r in request:\n",
    "            temp += min(r, mid)\n",
    "        \n",
    "        if temp <= total:\n",
    "            ans = max(ans, mid)\n",
    "            left = mid + 1\n",
    "        else:\n",
    "            right = mid - 1\n",
    "    \n",
    "    print(ans)\n",
    "    \n",
    "\n"
   ]
  },
  {
   "cell_type": "code",
   "execution_count": 14,
   "metadata": {},
   "outputs": [
    {
     "name": "stdout",
     "output_type": "stream",
     "text": [
      "2\n"
     ]
    }
   ],
   "source": [
    "#13\n",
    "n = int(input())\n",
    "request = list(map(int, input().split()))\n",
    "total = int(input())\n",
    "\n",
    "if sum(request) <= total:\n",
    "    print(max(request))\n",
    "else:\n",
    "    left = 0\n",
    "    right = total\n",
    "    ans = 0\n",
    "    \n",
    "    while left <= right:\n",
    "        mid = (left + right) // 2\n",
    "        temp = 0\n",
    "        for r in request:\n",
    "            temp += min(r, mid)\n",
    "        \n",
    "        if temp <= total:\n",
    "            ans = max(ans, mid)\n",
    "            left = mid + 1\n",
    "        else:\n",
    "            right = mid - 1\n",
    "    \n",
    "    print(ans)"
   ]
  },
  {
   "cell_type": "code",
   "execution_count": 19,
   "metadata": {},
   "outputs": [
    {
     "name": "stdout",
     "output_type": "stream",
     "text": [
      "0\n"
     ]
    }
   ],
   "source": [
    "#14"
   ]
  },
  {
   "cell_type": "code",
   "execution_count": null,
   "metadata": {},
   "outputs": [],
   "source": [
    "#15"
   ]
  },
  {
   "cell_type": "code",
   "execution_count": null,
   "metadata": {},
   "outputs": [],
   "source": [
    "#16"
   ]
  },
  {
   "cell_type": "code",
   "execution_count": 22,
   "metadata": {},
   "outputs": [
    {
     "data": {
      "text/plain": [
       "2"
      ]
     },
     "execution_count": 22,
     "metadata": {},
     "output_type": "execute_result"
    }
   ],
   "source": [
    "#17\n",
    "from math import gcd\n",
    "p, q = map(int, input().split())\n",
    "\n",
    "def solution(a, b):\n",
    "    b //= gcd(a,b) #바로 최대공약수부터 구해서 나눈 값을 넣기\n",
    "    while b%2==0:\n",
    "        b//=2  #2로 나누어 떨어지면 2로 나눈 값 넣기\n",
    "    while b%5==0:\n",
    "        b//=5 #5로 나누어 떨어지면 5로 나눈 값 넣기\n",
    "    return 1 if b==1 else 2 #다 나누어 떨어지면 1,아니면 2넣기\n",
    "\n",
    "if solution(p,q) == 1:\n",
    "    print(p/q)\n",
    "else:\n",
    "    \n",
    "\n"
   ]
  },
  {
   "cell_type": "code",
   "execution_count": 40,
   "metadata": {},
   "outputs": [
    {
     "name": "stdout",
     "output_type": "stream",
     "text": [
      "-1\n"
     ]
    }
   ],
   "source": [
    "#18\n"
   ]
  },
  {
   "cell_type": "code",
   "execution_count": null,
   "metadata": {},
   "outputs": [],
   "source": [
    "#19"
   ]
  },
  {
   "cell_type": "code",
   "execution_count": 29,
   "metadata": {},
   "outputs": [],
   "source": [
    "#20"
   ]
  },
  {
   "cell_type": "code",
   "execution_count": 30,
   "metadata": {},
   "outputs": [],
   "source": [
    "#21"
   ]
  },
  {
   "cell_type": "code",
   "execution_count": null,
   "metadata": {},
   "outputs": [],
   "source": [
    "#22"
   ]
  },
  {
   "cell_type": "code",
   "execution_count": null,
   "metadata": {},
   "outputs": [],
   "source": [
    "#23"
   ]
  },
  {
   "cell_type": "code",
   "execution_count": null,
   "metadata": {},
   "outputs": [],
   "source": [
    "#24"
   ]
  },
  {
   "cell_type": "code",
   "execution_count": null,
   "metadata": {},
   "outputs": [],
   "source": [
    "#25"
   ]
  },
  {
   "cell_type": "code",
   "execution_count": null,
   "metadata": {},
   "outputs": [],
   "source": [
    "#26"
   ]
  },
  {
   "cell_type": "code",
   "execution_count": null,
   "metadata": {},
   "outputs": [],
   "source": [
    "#27"
   ]
  },
  {
   "cell_type": "code",
   "execution_count": 31,
   "metadata": {},
   "outputs": [],
   "source": [
    "#28"
   ]
  },
  {
   "cell_type": "code",
   "execution_count": null,
   "metadata": {},
   "outputs": [],
   "source": [
    "#29"
   ]
  },
  {
   "cell_type": "code",
   "execution_count": null,
   "metadata": {},
   "outputs": [],
   "source": [
    "#30"
   ]
  }
 ],
 "metadata": {
  "kernelspec": {
   "display_name": "base",
   "language": "python",
   "name": "python3"
  },
  "language_info": {
   "codemirror_mode": {
    "name": "ipython",
    "version": 3
   },
   "file_extension": ".py",
   "mimetype": "text/x-python",
   "name": "python",
   "nbconvert_exporter": "python",
   "pygments_lexer": "ipython3",
   "version": "3.9.13"
  },
  "orig_nbformat": 4
 },
 "nbformat": 4,
 "nbformat_minor": 2
}
