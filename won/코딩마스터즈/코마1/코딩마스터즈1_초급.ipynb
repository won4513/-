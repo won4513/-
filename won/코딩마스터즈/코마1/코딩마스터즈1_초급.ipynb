{
 "cells": [
  {
   "cell_type": "code",
   "execution_count": 8,
   "metadata": {},
   "outputs": [
    {
     "name": "stdout",
     "output_type": "stream",
     "text": [
      "11\n"
     ]
    }
   ],
   "source": [
    "#1\n",
    "n = int(input())\n",
    "cnt = 0\n",
    "while n > 10:\n",
    "    x = 0\n",
    "    if n >= 50000:\n",
    "        x += n//50000\n",
    "        n -= x * 50000\n",
    "        cnt += x\n",
    "        x = 0\n",
    "    elif 10000 <= n < 50000:\n",
    "        x += n//10000\n",
    "        n -= x * 10000\n",
    "        cnt += x\n",
    "        x = 0\n",
    "    elif 5000 <= n < 10000:\n",
    "        x += n//5000\n",
    "        n -= x * 5000\n",
    "        cnt += x\n",
    "        x = 0\n",
    "    elif 1000 <= n < 5000:\n",
    "        x += n//1000\n",
    "        n -= x * 1000\n",
    "        cnt += x\n",
    "        x = 0\n",
    "    elif 500 <= n < 1000:\n",
    "        x += n//500\n",
    "        n -= x * 500\n",
    "        cnt += x\n",
    "        x = 0\n",
    "    elif 100 <= n < 500:\n",
    "        x += n//100\n",
    "        n -= x * 100\n",
    "        cnt += x\n",
    "        x = 0\n",
    "    elif 50 <= n < 100:\n",
    "        x += n//50\n",
    "        n -= x * 50\n",
    "        cnt += x\n",
    "        x = 0\n",
    "    else:\n",
    "        x += n//10\n",
    "        n -= x * 10\n",
    "        cnt += x\n",
    "        x = 0\n",
    "    \n",
    "print(cnt)\n",
    "     "
   ]
  },
  {
   "cell_type": "code",
   "execution_count": 15,
   "metadata": {},
   "outputs": [
    {
     "name": "stdout",
     "output_type": "stream",
     "text": [
      "6\n"
     ]
    }
   ],
   "source": [
    "#2\n",
    "a,n = map(str, input().split())\n",
    "x = list(map(str, input().split()))\n",
    "for i in range(len(x)):\n",
    "    if x[i] == n:\n",
    "        print(i+1)\n"
   ]
  },
  {
   "cell_type": "code",
   "execution_count": 18,
   "metadata": {},
   "outputs": [
    {
     "name": "stdout",
     "output_type": "stream",
     "text": [
      "-1\n"
     ]
    }
   ],
   "source": [
    "#3\n",
    "n,a = map(int, input().split())\n",
    "x = list(map(int,input().split()))\n",
    "y = []\n",
    "for i in range(len(x)):\n",
    "    if x[i] == a:\n",
    "        y.append(a)\n",
    "        print(i+1)\n",
    "if len(y) == 0:\n",
    "    print(-1)\n",
    "\n"
   ]
  },
  {
   "cell_type": "code",
   "execution_count": null,
   "metadata": {},
   "outputs": [],
   "source": [
    "#4\n",
    "n = int(input())\n",
    "a,b = 1, 2\n",
    "for i in range(2,n+1):\n",
    "  a,b = b, a+b\n",
    "print(a%796796)"
   ]
  },
  {
   "cell_type": "code",
   "execution_count": 29,
   "metadata": {},
   "outputs": [
    {
     "name": "stdout",
     "output_type": "stream",
     "text": [
      "16\n",
      "12\n",
      "8\n"
     ]
    }
   ],
   "source": [
    "#5\n",
    "n = int(input())\n",
    "a = []\n",
    "for i in range(n):\n",
    "    x = list(map(str, input().split()))\n",
    "    x[1] = int(x[1])\n",
    "    a.append(x)\n",
    "a.sort(key = lambda x: x[1], reverse = True)\n",
    "for i in range(3):\n",
    "    print(a[i][0])\n",
    "    "
   ]
  },
  {
   "cell_type": "code",
   "execution_count": 102,
   "metadata": {},
   "outputs": [
    {
     "name": "stdout",
     "output_type": "stream",
     "text": [
      "c\n",
      "bb\n"
     ]
    }
   ],
   "source": [
    "#6\n",
    "n = int(input())\n",
    "a = []\n",
    "for i in range(n):\n",
    "    a.append([input()])\n",
    "a.sort(key = lambda x: (len(x[0]), x[0]))\n",
    "b = []\n",
    "for i in a:\n",
    "    if i not in b:\n",
    "        b.append(i)\n",
    "for i in range(len(b)):\n",
    "    print(*b[i])\n"
   ]
  },
  {
   "cell_type": "code",
   "execution_count": 15,
   "metadata": {},
   "outputs": [
    {
     "name": "stdout",
     "output_type": "stream",
     "text": [
      "0 1 1\n",
      "1 0 1\n",
      "1 1 0\n"
     ]
    }
   ],
   "source": [
    "#7\n",
    "n,m = map(int, input().split())\n",
    "x = [[0 for i in range(n)] for i in range(n)]\n",
    "for i in range(m):\n",
    "    a,b = map(int,input().split())\n",
    "    x[a-1][b-1] = 1\n",
    "    x[b-1][a-1] = 1\n",
    "for i in x:\n",
    "    print(*i)"
   ]
  },
  {
   "cell_type": "code",
   "execution_count": 21,
   "metadata": {},
   "outputs": [
    {
     "data": {
      "text/plain": [
       "[10, 9, 11, 8, 4, 5, 0, 0]"
      ]
     },
     "execution_count": 21,
     "metadata": {},
     "output_type": "execute_result"
    }
   ],
   "source": [
    "#8\n",
    "n = int(input())\n",
    "ans = []\n",
    "a = list(map(int,input().split()))\n",
    "cnt = 0\n",
    "\n",
    "for i in range(10000):\n",
    "    if 2**i > len(a):\n",
    "        cnt += 2**i\n",
    "        break\n",
    "x = [0]*cnt\n",
    "\n",
    "for i in range(len(a)):\n",
    "    x[i] = a[i]\n",
    "\n",
    "\n",
    "\n",
    "    \n",
    "    \n",
    "    \n",
    "\n",
    "     "
   ]
  },
  {
   "cell_type": "code",
   "execution_count": null,
   "metadata": {},
   "outputs": [],
   "source": [
    "#9\n",
    "n = int(input())\n",
    "x = [[0,0]]*n\n",
    "cnt = 1\n",
    "for i in range(1,n+1):\n",
    "    for j in range(2):\n",
    "        if x[i][j] == 0:\n",
    "            \n",
    "\n",
    "\n",
    "\n"
   ]
  },
  {
   "cell_type": "code",
   "execution_count": 28,
   "metadata": {},
   "outputs": [
    {
     "name": "stdout",
     "output_type": "stream",
     "text": [
      "[0, 1, 1, 1, 2, 2, 2, 3, 3, 3, 4]\n",
      "4\n"
     ]
    }
   ],
   "source": [
    "#10\n",
    "n,m = map(int,input().split())\n",
    "x = []\n",
    "for i in range(n):\n",
    "    x.append(int(input()))\n",
    "    \n",
    "d = [10001]*(m+1)\n",
    "d[0] = 0\n",
    "\n",
    "for i in range(n):\n",
    "    for j in range(x[i], m+1):\n",
    "        if d[j - x[i]] != 10001:\n",
    "            d[j] = min(d[j], d[j - x[i]]+1)\n",
    "print(d)\n",
    "\n",
    "if d[m] == 10001:\n",
    "    print(-1)\n",
    "else:\n",
    "    print(d[m])\n",
    "\n"
   ]
  },
  {
   "cell_type": "code",
   "execution_count": 14,
   "metadata": {},
   "outputs": [
    {
     "name": "stdout",
     "output_type": "stream",
     "text": [
      "4\n"
     ]
    }
   ],
   "source": [
    "#11\n",
    "\n",
    "\n",
    "n = int(input())#편의점 갯수\n",
    "x = []\n",
    "cnt = 0\n",
    "for i in range(n):\n",
    "    a = list(map(int,input().split()))#편의점까지 거리,획득 포만감\n",
    "    x.append(a)\n",
    "k = list(map(int,input().split()))#식당까지 거리, 현재 포만감\n",
    "x.insert(0,[0,k[1]])\n",
    "x.append([k[0]])\n",
    "sum = k[1]\n",
    "\n",
    "\n",
    "for i in range(1,len(x)-1):\n",
    "    if sum < x[i][0] - x[i-1][0]:\n",
    "        cnt = -1\n",
    "        break \n",
    "    sum += x[i][1] - (x[i][0] - x[i-1][0])\n",
    "     \n",
    "if cnt != -1:    \n",
    "    for i in range(1,len(x)):\n",
    "        if x[0][1] > x[i][0] - x[0][0]: \n",
    "            continue\n",
    "        else:\n",
    "            x[0][1] += (x[i-1][1] - (x[i-1][0]-x[0][0]))\n",
    "            x[0][0] = x[i-1][0]\n",
    "            cnt += 1\n",
    "    \n",
    "    if x[-1][0] - x[-2][0] > x[0][1]:\n",
    "        cnt = -1\n",
    "        \n",
    " \n",
    "        \n",
    "print(cnt)\n",
    "    \n"
   ]
  },
  {
   "cell_type": "code",
   "execution_count": 8,
   "metadata": {},
   "outputs": [
    {
     "data": {
      "text/plain": [
       "116"
      ]
     },
     "execution_count": 8,
     "metadata": {},
     "output_type": "execute_result"
    }
   ],
   "source": [
    "#12\n",
    "\n",
    "x = input()\n",
    "\n",
    "if x == 'You':\n",
    "    print(\"Me\")\n",
    "else:\n",
    "    print('No')"
   ]
  },
  {
   "cell_type": "code",
   "execution_count": 34,
   "metadata": {},
   "outputs": [
    {
     "name": "stdout",
     "output_type": "stream",
     "text": [
      "[5, 7, 18, 38, 40]\n"
     ]
    }
   ],
   "source": [
    "#13\n",
    "x = list(map(int, input().split()))\n",
    "x.sort()\n",
    "print(x[2])"
   ]
  },
  {
   "cell_type": "code",
   "execution_count": 57,
   "metadata": {},
   "outputs": [
    {
     "name": "stdout",
     "output_type": "stream",
     "text": [
      "[2]\n",
      "[2, 1]\n",
      "[2, 1, 3]\n",
      "[2, 1, 3, 3]\n",
      "[2, 1, 3, 3, 1]\n",
      "[2, 1, 3, 3, 1, 1]\n",
      "3\n"
     ]
    }
   ],
   "source": [
    "#14 \n",
    "\n",
    "x = int(input())\n",
    "y = list(map(int, input().split()))\n",
    "\n",
    "k = []\n",
    "a = 1\n",
    "for i in range(len(y)):\n",
    "    for j in range():\n",
    "        if y[j] > y[i]:\n",
    "            a += 1\n",
    "            if y[j] > y[j + 1]:\n",
    "                break\n",
    "    k.append(a)\n",
    "    a = 1\n",
    "    print(k)\n",
    "       \n",
    "print(max(k))\n",
    "    "
   ]
  },
  {
   "cell_type": "code",
   "execution_count": 51,
   "metadata": {},
   "outputs": [
    {
     "data": {
      "text/plain": [
       "[2]"
      ]
     },
     "execution_count": 51,
     "metadata": {},
     "output_type": "execute_result"
    }
   ],
   "source": [
    "x = [1,2,3]\n",
    "x[1:-1]"
   ]
  },
  {
   "cell_type": "code",
   "execution_count": null,
   "metadata": {},
   "outputs": [],
   "source": []
  },
  {
   "cell_type": "code",
   "execution_count": null,
   "metadata": {},
   "outputs": [],
   "source": []
  },
  {
   "cell_type": "code",
   "execution_count": null,
   "metadata": {},
   "outputs": [],
   "source": []
  },
  {
   "cell_type": "code",
   "execution_count": null,
   "metadata": {},
   "outputs": [],
   "source": []
  },
  {
   "cell_type": "code",
   "execution_count": null,
   "metadata": {},
   "outputs": [],
   "source": []
  }
 ],
 "metadata": {
  "kernelspec": {
   "display_name": "base",
   "language": "python",
   "name": "python3"
  },
  "language_info": {
   "codemirror_mode": {
    "name": "ipython",
    "version": 3
   },
   "file_extension": ".py",
   "mimetype": "text/x-python",
   "name": "python",
   "nbconvert_exporter": "python",
   "pygments_lexer": "ipython3",
   "version": "3.8.3"
  },
  "orig_nbformat": 4,
  "vscode": {
   "interpreter": {
    "hash": "ad2bdc8ecc057115af97d19610ffacc2b4e99fae6737bb82f5d7fb13d2f2c186"
   }
  }
 },
 "nbformat": 4,
 "nbformat_minor": 2
}
