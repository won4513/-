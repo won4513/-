{
 "cells": [
  {
   "cell_type": "code",
   "execution_count": 8,
   "metadata": {},
   "outputs": [
    {
     "name": "stdout",
     "output_type": "stream",
     "text": [
      "11\n"
     ]
    }
   ],
   "source": [
    "#1\n",
    "n = int(input())\n",
    "cnt = 0\n",
    "while n > 10:\n",
    "    x = 0\n",
    "    if n >= 50000:\n",
    "        x += n//50000\n",
    "        n -= x * 50000\n",
    "        cnt += x\n",
    "        x = 0\n",
    "    elif 10000 <= n < 50000:\n",
    "        x += n//10000\n",
    "        n -= x * 10000\n",
    "        cnt += x\n",
    "        x = 0\n",
    "    elif 5000 <= n < 10000:\n",
    "        x += n//5000\n",
    "        n -= x * 5000\n",
    "        cnt += x\n",
    "        x = 0\n",
    "    elif 1000 <= n < 5000:\n",
    "        x += n//1000\n",
    "        n -= x * 1000\n",
    "        cnt += x\n",
    "        x = 0\n",
    "    elif 500 <= n < 1000:\n",
    "        x += n//500\n",
    "        n -= x * 500\n",
    "        cnt += x\n",
    "        x = 0\n",
    "    elif 100 <= n < 500:\n",
    "        x += n//100\n",
    "        n -= x * 100\n",
    "        cnt += x\n",
    "        x = 0\n",
    "    elif 50 <= n < 100:\n",
    "        x += n//50\n",
    "        n -= x * 50\n",
    "        cnt += x\n",
    "        x = 0\n",
    "    else:\n",
    "        x += n//10\n",
    "        n -= x * 10\n",
    "        cnt += x\n",
    "        x = 0\n",
    "    \n",
    "print(cnt)\n",
    "     "
   ]
  },
  {
   "cell_type": "code",
   "execution_count": 15,
   "metadata": {},
   "outputs": [
    {
     "name": "stdout",
     "output_type": "stream",
     "text": [
      "6\n"
     ]
    }
   ],
   "source": [
    "#2\n",
    "a,n = map(str, input().split())\n",
    "x = list(map(str, input().split()))\n",
    "for i in range(len(x)):\n",
    "    if x[i] == n:\n",
    "        print(i+1)\n"
   ]
  },
  {
   "cell_type": "code",
   "execution_count": 18,
   "metadata": {},
   "outputs": [
    {
     "name": "stdout",
     "output_type": "stream",
     "text": [
      "-1\n"
     ]
    }
   ],
   "source": [
    "#3\n",
    "n,a = map(int, input().split())\n",
    "x = list(map(int,input().split()))\n",
    "y = []\n",
    "for i in range(len(x)):\n",
    "    if x[i] == a:\n",
    "        y.append(a)\n",
    "        print(i+1)\n",
    "if len(y) == 0:\n",
    "    print(-1)\n",
    "\n"
   ]
  },
  {
   "cell_type": "code",
   "execution_count": null,
   "metadata": {},
   "outputs": [],
   "source": [
    "#4\n",
    "n = int(input())\n",
    "a,b = 1, 2\n",
    "for i in range(2,n+1):\n",
    "  a,b = b, a+b\n",
    "print(a%796796)"
   ]
  },
  {
   "cell_type": "code",
   "execution_count": 29,
   "metadata": {},
   "outputs": [
    {
     "name": "stdout",
     "output_type": "stream",
     "text": [
      "16\n",
      "12\n",
      "8\n"
     ]
    }
   ],
   "source": [
    "#5\n",
    "n = int(input())\n",
    "a = []\n",
    "for i in range(n):\n",
    "    x = list(map(str, input().split()))\n",
    "    x[1] = int(x[1])\n",
    "    a.append(x)\n",
    "a.sort(key = lambda x: x[1], reverse = True)\n",
    "for i in range(3):\n",
    "    print(a[i][0])\n",
    "    "
   ]
  },
  {
   "cell_type": "code",
   "execution_count": 102,
   "metadata": {},
   "outputs": [
    {
     "name": "stdout",
     "output_type": "stream",
     "text": [
      "c\n",
      "bb\n"
     ]
    }
   ],
   "source": [
    "#6\n",
    "n = int(input())\n",
    "a = []\n",
    "for i in range(n):\n",
    "    a.append([input()])\n",
    "a.sort(key = lambda x: (len(x[0]), x[0]))\n",
    "b = []\n",
    "for i in a:\n",
    "    if i not in b:\n",
    "        b.append(i)\n",
    "for i in range(len(b)):\n",
    "    print(*b[i])\n"
   ]
  },
  {
   "cell_type": "code",
   "execution_count": 15,
   "metadata": {},
   "outputs": [
    {
     "name": "stdout",
     "output_type": "stream",
     "text": [
      "0 1 1\n",
      "1 0 1\n",
      "1 1 0\n"
     ]
    }
   ],
   "source": [
    "#7\n",
    "n,m = map(int, input().split())\n",
    "x = [[0 for i in range(n)] for i in range(n)]\n",
    "for i in range(m):\n",
    "    a,b = map(int,input().split())\n",
    "    x[a-1][b-1] = 1\n",
    "    x[b-1][a-1] = 1\n",
    "for i in x:\n",
    "    print(*i)"
   ]
  },
  {
   "cell_type": "code",
   "execution_count": 21,
   "metadata": {},
   "outputs": [
    {
     "data": {
      "text/plain": [
       "[10, 9, 11, 8, 4, 5, 0, 0]"
      ]
     },
     "execution_count": 21,
     "metadata": {},
     "output_type": "execute_result"
    }
   ],
   "source": [
    "#8\n",
    "n = int(input())\n",
    "ans = []\n",
    "a = list(map(int,input().split()))\n",
    "cnt = 0\n",
    "\n",
    "for i in range(10000):\n",
    "    if 2**i > len(a):\n",
    "        cnt += 2**i\n",
    "        break\n",
    "x = [0]*cnt\n",
    "\n",
    "for i in range(len(a)):\n",
    "    x[i] = a[i]\n",
    "\n",
    "\n",
    "\n",
    "    \n",
    "    \n",
    "    \n",
    "\n",
    "     "
   ]
  },
  {
   "cell_type": "code",
   "execution_count": null,
   "metadata": {},
   "outputs": [],
   "source": [
    "#9\n",
    "n = int(input())\n",
    "x = [[0,0]]*n\n",
    "cnt = 1\n",
    "for i in range(1,n+1):\n",
    "    for j in range(2):\n",
    "        if x[i][j] == 0:\n",
    "            \n",
    "\n",
    "\n",
    "\n"
   ]
  },
  {
   "cell_type": "code",
   "execution_count": 28,
   "metadata": {},
   "outputs": [
    {
     "name": "stdout",
     "output_type": "stream",
     "text": [
      "[0, 1, 1, 1, 2, 2, 2, 3, 3, 3, 4]\n",
      "4\n"
     ]
    }
   ],
   "source": [
    "#10\n",
    "n,m = map(int,input().split())\n",
    "x = []\n",
    "for i in range(n):\n",
    "    x.append(int(input()))\n",
    "    \n",
    "d = [10001]*(m+1)\n",
    "d[0] = 0\n",
    "\n",
    "for i in range(n):\n",
    "    for j in range(x[i], m+1):\n",
    "        if d[j - x[i]] != 10001:\n",
    "            d[j] = min(d[j], d[j - x[i]]+1)\n",
    "print(d)\n",
    "\n",
    "if d[m] == 10001:\n",
    "    print(-1)\n",
    "else:\n",
    "    print(d[m])\n",
    "\n"
   ]
  },
  {
   "cell_type": "code",
   "execution_count": 14,
   "metadata": {},
   "outputs": [
    {
     "name": "stdout",
     "output_type": "stream",
     "text": [
      "4\n"
     ]
    }
   ],
   "source": [
    "#11\n",
    "\n",
    "\n",
    "n = int(input())#편의점 갯수\n",
    "x = []\n",
    "cnt = 0\n",
    "for i in range(n):\n",
    "    a = list(map(int,input().split()))#편의점까지 거리,획득 포만감\n",
    "    x.append(a)\n",
    "k = list(map(int,input().split()))#식당까지 거리, 현재 포만감\n",
    "x.insert(0,[0,k[1]])\n",
    "x.append([k[0]])\n",
    "sum = k[1]\n",
    "\n",
    "\n",
    "for i in range(1,len(x)-1):\n",
    "    if sum < x[i][0] - x[i-1][0]:\n",
    "        cnt = -1\n",
    "        break \n",
    "    sum += x[i][1] - (x[i][0] - x[i-1][0])\n",
    "     \n",
    "if cnt != -1:    \n",
    "    for i in range(1,len(x)):\n",
    "        if x[0][1] > x[i][0] - x[0][0]: \n",
    "            continue\n",
    "        else:\n",
    "            x[0][1] += (x[i-1][1] - (x[i-1][0]-x[0][0]))\n",
    "            x[0][0] = x[i-1][0]\n",
    "            cnt += 1\n",
    "    \n",
    "    if x[-1][0] - x[-2][0] > x[0][1]:\n",
    "        cnt = -1\n",
    "        \n",
    " \n",
    "        \n",
    "print(cnt)\n",
    "    \n"
   ]
  },
  {
   "cell_type": "code",
   "execution_count": 8,
   "metadata": {},
   "outputs": [
    {
     "data": {
      "text/plain": [
       "116"
      ]
     },
     "execution_count": 8,
     "metadata": {},
     "output_type": "execute_result"
    }
   ],
   "source": [
    "#12\n",
    "\n",
    "x = input()\n",
    "\n",
    "if x == 'You':\n",
    "    print(\"Me\")\n",
    "else:\n",
    "    print('No')"
   ]
  },
  {
   "cell_type": "code",
   "execution_count": 34,
   "metadata": {},
   "outputs": [
    {
     "name": "stdout",
     "output_type": "stream",
     "text": [
      "[5, 7, 18, 38, 40]\n"
     ]
    }
   ],
   "source": [
    "#13\n",
    "x = list(map(int, input().split()))\n",
    "x.sort()\n",
    "print(x[2])"
   ]
  },
  {
   "cell_type": "code",
   "execution_count": null,
   "metadata": {},
   "outputs": [],
   "source": [
    "#14"
   ]
  },
  {
   "cell_type": "code",
   "execution_count": 20,
   "metadata": {},
   "outputs": [
    {
     "name": "stdout",
     "output_type": "stream",
     "text": [
      "[3]\n",
      "[3, 2]\n",
      "[3, 2, 4]\n",
      "[3, 2, 4, 3]\n",
      "[3, 2, 4, 3, 2]\n",
      "[3, 2, 4, 3, 2, 1]\n",
      "4\n"
     ]
    }
   ],
   "source": [
    "#15 \n",
    "\n",
    "x = int(input())\n",
    "y = list(map(int, input().split()))\n",
    "\n",
    "k = []\n",
    "a = 1\n",
    "for i in range(len(y)):\n",
    "    for j in range(i+1,len(y)):\n",
    "        if y[j] > y[i]:\n",
    "            if y[j-1] > y[j]:\n",
    "                \n",
    "                break\n",
    "            a += 1            \n",
    "    k.append(a)\n",
    "    print(k)\n",
    "    a = 1\n",
    "    \n",
    "print(max(k))\n",
    "    "
   ]
  },
  {
   "cell_type": "code",
   "execution_count": 44,
   "metadata": {},
   "outputs": [
    {
     "name": "stdout",
     "output_type": "stream",
     "text": [
      "9\n"
     ]
    }
   ],
   "source": [
    "#16\n",
    "\n",
    "x, y = map(int, input().split())\n",
    "k = (y*100)//x\n",
    "if k >= 99:\n",
    "    print(-1)\n",
    "\n",
    "else:\n",
    "    ans = 0\n",
    "    start = 1\n",
    "    end = x\n",
    "    \n",
    "    while start <= end:\n",
    "        mid = (start + end) // 2\n",
    "        if (y+mid)*100 // (x + mid) <= k:\n",
    "            start = mid + 1\n",
    "        else:\n",
    "            ans = mid\n",
    "            end = mid -1\n",
    "            \n",
    "    print(ans)   \n",
    "    \n",
    "    \n",
    "        "
   ]
  },
  {
   "cell_type": "code",
   "execution_count": 55,
   "metadata": {},
   "outputs": [
    {
     "name": "stdout",
     "output_type": "stream",
     "text": [
      "[[], [], []]\n"
     ]
    },
    {
     "data": {
      "text/plain": [
       "[[[5], [10, 30], [20, 12, 7]],\n",
       " [[5], [10, 30], [20, 12, 7]],\n",
       " [[5], [10, 30], [20, 12, 7]]]"
      ]
     },
     "execution_count": 55,
     "metadata": {},
     "output_type": "execute_result"
    }
   ],
   "source": [
    "#17\n",
    "n = int(input())\n",
    "x = [[]*n]*n\n",
    "\n",
    "for i in range(n):\n",
    "    x[i].append(list(map(int,input().split())))\n",
    "\n",
    "    \n",
    "\n",
    "    \n",
    "\n",
    "    "
   ]
  },
  {
   "cell_type": "code",
   "execution_count": 56,
   "metadata": {},
   "outputs": [
    {
     "data": {
      "text/plain": [
       "['BBW', 'WBB', 'WBW']"
      ]
     },
     "execution_count": 56,
     "metadata": {},
     "output_type": "execute_result"
    }
   ],
   "source": [
    "#18\n",
    "n = int(input())\n",
    "x = []\n",
    "for i in range(n):\n",
    "    x.append(input())\n",
    "\n"
   ]
  },
  {
   "cell_type": "code",
   "execution_count": null,
   "metadata": {},
   "outputs": [],
   "source": [
    "#19\n",
    "n = int(input())\n",
    "answer = 0\n",
    "dp = [0] * (n + 1)\n",
    "dp[0] = 1  \n",
    "sub = 0\n",
    "for i in range(2, n + 1, 2):\n",
    "    dp[i] = dp[i - 2] * 3 + sub * 2\n",
    "    sub += dp[i - 2]\n",
    "\n",
    "print(dp[n])"
   ]
  },
  {
   "cell_type": "code",
   "execution_count": 61,
   "metadata": {},
   "outputs": [
    {
     "name": "stdout",
     "output_type": "stream",
     "text": [
      "42\n"
     ]
    }
   ],
   "source": [
    "#20\n",
    "n,m = map(int,input().split())\n",
    "cnt = 0\n",
    "while n < m:\n",
    "    n += 3\n",
    "    cnt += 1\n",
    "while n != m:\n",
    "    n -= 1\n",
    "    cnt += 1\n",
    "print(cnt)\n"
   ]
  },
  {
   "cell_type": "code",
   "execution_count": 136,
   "metadata": {},
   "outputs": [
    {
     "name": "stdout",
     "output_type": "stream",
     "text": [
      "9\n"
     ]
    }
   ],
   "source": [
    "#21\n",
    "x = [[0]*8 for i in range(8)]\n",
    "for i in range(8):\n",
    "    if i % 2 == 0:\n",
    "        for j in range(8):\n",
    "            if j % 2 != 0:\n",
    "                x[i][j] = 1\n",
    "    else:\n",
    "        for j in range(8):\n",
    "            if j % 2 == 0:\n",
    "                x[i][j] = 1\n",
    " \n",
    "y = []\n",
    "for i in range(8):\n",
    "    y.append(list(map(str, input().split())))\n",
    "\n",
    "cnt = 0\n",
    "for i in range(8):\n",
    "    for j in range(8):\n",
    "        if x[i][j] == 0 and y[i][j] == 'F':\n",
    "            cnt += 1\n",
    "print(cnt)\n",
    "           \n",
    "\n"
   ]
  },
  {
   "cell_type": "code",
   "execution_count": 135,
   "metadata": {},
   "outputs": [
    {
     "name": "stdout",
     "output_type": "stream",
     "text": [
      "32\n"
     ]
    }
   ],
   "source": [
    "x = [[0]*8 for i in range(8)]\n",
    "for i in range(8):\n",
    "    if i % 2 == 0:\n",
    "        for j in range(8):\n",
    "            if j % 2 != 0:\n",
    "                x[i][j] = 1\n",
    "    else:\n",
    "        for j in range(8):\n",
    "            if j % 2 == 0:\n",
    "                x[i][j] = 1\n",
    "cnt = 0\n",
    "for i in range(8):\n",
    "    for j in range(8):\n",
    "        if x[i][j] == 0:\n",
    "            cnt += 1\n",
    "print(cnt)"
   ]
  }
 ],
 "metadata": {
  "kernelspec": {
   "display_name": "Python 3",
   "language": "python",
   "name": "python3"
  },
  "language_info": {
   "codemirror_mode": {
    "name": "ipython",
    "version": 3
   },
   "file_extension": ".py",
   "mimetype": "text/x-python",
   "name": "python",
   "nbconvert_exporter": "python",
   "pygments_lexer": "ipython3",
   "version": "3.10.9"
  },
  "orig_nbformat": 4,
  "vscode": {
   "interpreter": {
    "hash": "afb734500600fd355917ca529030176ea0ca205570884b88f2f6f7d791fd3fbe"
   }
  }
 },
 "nbformat": 4,
 "nbformat_minor": 2
}
