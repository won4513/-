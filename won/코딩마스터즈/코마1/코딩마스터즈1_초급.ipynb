{
 "cells": [
  {
   "cell_type": "code",
   "execution_count": 8,
   "metadata": {},
   "outputs": [
    {
     "name": "stdout",
     "output_type": "stream",
     "text": [
      "11\n"
     ]
    }
   ],
   "source": [
    "#1\n",
    "n = int(input())\n",
    "cnt = 0\n",
    "while n > 10:\n",
    "    x = 0\n",
    "    if n >= 50000:\n",
    "        x += n//50000\n",
    "        n -= x * 50000\n",
    "        cnt += x\n",
    "        x = 0\n",
    "    elif 10000 <= n < 50000:\n",
    "        x += n//10000\n",
    "        n -= x * 10000\n",
    "        cnt += x\n",
    "        x = 0\n",
    "    elif 5000 <= n < 10000:\n",
    "        x += n//5000\n",
    "        n -= x * 5000\n",
    "        cnt += x\n",
    "        x = 0\n",
    "    elif 1000 <= n < 5000:\n",
    "        x += n//1000\n",
    "        n -= x * 1000\n",
    "        cnt += x\n",
    "        x = 0\n",
    "    elif 500 <= n < 1000:\n",
    "        x += n//500\n",
    "        n -= x * 500\n",
    "        cnt += x\n",
    "        x = 0\n",
    "    elif 100 <= n < 500:\n",
    "        x += n//100\n",
    "        n -= x * 100\n",
    "        cnt += x\n",
    "        x = 0\n",
    "    elif 50 <= n < 100:\n",
    "        x += n//50\n",
    "        n -= x * 50\n",
    "        cnt += x\n",
    "        x = 0\n",
    "    else:\n",
    "        x += n//10\n",
    "        n -= x * 10\n",
    "        cnt += x\n",
    "        x = 0\n",
    "    \n",
    "print(cnt)\n",
    "     "
   ]
  },
  {
   "cell_type": "code",
   "execution_count": 15,
   "metadata": {},
   "outputs": [
    {
     "name": "stdout",
     "output_type": "stream",
     "text": [
      "6\n"
     ]
    }
   ],
   "source": [
    "#2\n",
    "a,n = map(str, input().split())\n",
    "x = list(map(str, input().split()))\n",
    "for i in range(len(x)):\n",
    "    if x[i] == n:\n",
    "        print(i+1)\n"
   ]
  },
  {
   "cell_type": "code",
   "execution_count": 18,
   "metadata": {},
   "outputs": [
    {
     "name": "stdout",
     "output_type": "stream",
     "text": [
      "-1\n"
     ]
    }
   ],
   "source": [
    "#3\n",
    "n,a = map(int, input().split())\n",
    "x = list(map(int,input().split()))\n",
    "y = []\n",
    "for i in range(len(x)):\n",
    "    if x[i] == a:\n",
    "        y.append(a)\n",
    "        print(i+1)\n",
    "if len(y) == 0:\n",
    "    print(-1)\n",
    "\n"
   ]
  },
  {
   "cell_type": "code",
   "execution_count": null,
   "metadata": {},
   "outputs": [],
   "source": [
    "#4\n",
    "n = int(input())\n",
    "a,b = 1, 2\n",
    "for i in range(2,n+1):\n",
    "  a,b = b, a+b\n",
    "print(a%796796)"
   ]
  },
  {
   "cell_type": "code",
   "execution_count": 29,
   "metadata": {},
   "outputs": [
    {
     "name": "stdout",
     "output_type": "stream",
     "text": [
      "16\n",
      "12\n",
      "8\n"
     ]
    }
   ],
   "source": [
    "#5\n",
    "n = int(input())\n",
    "a = []\n",
    "for i in range(n):\n",
    "    x = list(map(str, input().split()))\n",
    "    x[1] = int(x[1])\n",
    "    a.append(x)\n",
    "a.sort(key = lambda x: x[1], reverse = True)\n",
    "for i in range(3):\n",
    "    print(a[i][0])\n",
    "    "
   ]
  },
  {
   "cell_type": "code",
   "execution_count": 102,
   "metadata": {},
   "outputs": [
    {
     "name": "stdout",
     "output_type": "stream",
     "text": [
      "c\n",
      "bb\n"
     ]
    }
   ],
   "source": [
    "#6\n",
    "n = int(input())\n",
    "a = []\n",
    "for i in range(n):\n",
    "    a.append([input()])\n",
    "a.sort(key = lambda x: (len(x[0]), x[0]))\n",
    "b = []\n",
    "for i in a:\n",
    "    if i not in b:\n",
    "        b.append(i)\n",
    "for i in range(len(b)):\n",
    "    print(*b[i])\n"
   ]
  },
  {
   "cell_type": "code",
   "execution_count": 15,
   "metadata": {},
   "outputs": [
    {
     "name": "stdout",
     "output_type": "stream",
     "text": [
      "0 1 1\n",
      "1 0 1\n",
      "1 1 0\n"
     ]
    }
   ],
   "source": [
    "#7\n",
    "n,m = map(int, input().split())\n",
    "x = [[0 for i in range(n)] for i in range(n)]\n",
    "for i in range(m):\n",
    "    a,b = map(int,input().split())\n",
    "    x[a-1][b-1] = 1\n",
    "    x[b-1][a-1] = 1\n",
    "for i in x:\n",
    "    print(*i)"
   ]
  },
  {
   "cell_type": "code",
   "execution_count": null,
   "metadata": {},
   "outputs": [],
   "source": [
    "#8\n",
    "n = int(input())\n",
    "a = list(map(int,input().split()))\n",
    "\n",
    "     "
   ]
  },
  {
   "cell_type": "code",
   "execution_count": null,
   "metadata": {},
   "outputs": [],
   "source": []
  },
  {
   "cell_type": "code",
   "execution_count": null,
   "metadata": {},
   "outputs": [],
   "source": []
  },
  {
   "cell_type": "code",
   "execution_count": null,
   "metadata": {},
   "outputs": [],
   "source": []
  },
  {
   "cell_type": "code",
   "execution_count": null,
   "metadata": {},
   "outputs": [],
   "source": []
  },
  {
   "cell_type": "code",
   "execution_count": null,
   "metadata": {},
   "outputs": [],
   "source": []
  },
  {
   "cell_type": "code",
   "execution_count": null,
   "metadata": {},
   "outputs": [],
   "source": []
  }
 ],
 "metadata": {
  "kernelspec": {
   "display_name": "base",
   "language": "python",
   "name": "python3"
  },
  "language_info": {
   "codemirror_mode": {
    "name": "ipython",
    "version": 3
   },
   "file_extension": ".py",
   "mimetype": "text/x-python",
   "name": "python",
   "nbconvert_exporter": "python",
   "pygments_lexer": "ipython3",
   "version": "3.8.3"
  },
  "orig_nbformat": 4,
  "vscode": {
   "interpreter": {
    "hash": "ad2bdc8ecc057115af97d19610ffacc2b4e99fae6737bb82f5d7fb13d2f2c186"
   }
  }
 },
 "nbformat": 4,
 "nbformat_minor": 2
}
